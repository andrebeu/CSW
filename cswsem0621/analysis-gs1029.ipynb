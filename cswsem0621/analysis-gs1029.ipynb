{
 "cells": [
  {
   "cell_type": "code",
   "execution_count": 1,
   "metadata": {},
   "outputs": [],
   "source": [
    "from matplotlib import pyplot as plt\n",
    "from scipy.special import softmax\n",
    "from itertools import product\n",
    "import numpy as np\n",
    "from utils import *\n",
    "from model import *\n",
    "import time\n",
    "import seaborn as sns\n",
    "from glob import glob as glob\n",
    "sns.set_context('talk')\n",
    "\n",
    "%load_ext autoreload\n",
    "%reload_ext autoreload\n",
    "%autoreload 2\n",
    "%matplotlib inline"
   ]
  },
  {
   "cell_type": "code",
   "execution_count": 2,
   "metadata": {},
   "outputs": [],
   "source": [
    "gsname = 'gs1029'"
   ]
  },
  {
   "cell_type": "markdown",
   "metadata": {},
   "source": [
    "### full gs data"
   ]
  },
  {
   "cell_type": "code",
   "execution_count": null,
   "metadata": {},
   "outputs": [],
   "source": [
    "dfpathL = glob('data/%s/*'%gsname)\n",
    "dfL = []\n",
    "for p in dfpathL[:-1]:\n",
    "  try:\n",
    "    df_ = pd.read_csv(p)\n",
    "    dfL.append(df_)\n",
    "  except:\n",
    "    print('error',p)\n",
    "    continue\n",
    "datadf = pd.concat(dfL).drop(columns='Unnamed: 0',)\n",
    "# datadf ## full data"
   ]
  },
  {
   "cell_type": "code",
   "execution_count": null,
   "metadata": {},
   "outputs": [],
   "source": [
    "datadf"
   ]
  },
  {
   "cell_type": "code",
   "execution_count": null,
   "metadata": {},
   "outputs": [],
   "source": [
    "datadf.columns\n",
    "paramL = ['concentration', 'stickiness_wi', 'stickiness_bt',\n",
    "       'sparsity', 'pvar', 'lrate', 'lratep', 'decay_rate']"
   ]
  },
  {
   "cell_type": "markdown",
   "metadata": {},
   "source": [
    "### compute df metrics, form summary df"
   ]
  },
  {
   "cell_type": "code",
   "execution_count": null,
   "metadata": {
    "scrolled": true
   },
   "outputs": [],
   "source": [
    "#### package this. set option to load presaved df\n",
    "## compute summary df\n",
    "groupvars = paramL \n",
    "gsdf_group = datadf.groupby(groupvars)\n",
    "dfL = []\n",
    "for params_i,df_i in gsdf_group:\n",
    "  dataD = {**dict(zip(groupvars,params_i))}\n",
    "  ## loop conditions (BIEML)\n",
    "  for cond_i,df_c in df_i.groupby('cond'):\n",
    "    ## compute metrics\n",
    "    testacc = np.mean(df_c.acc[-40:])\n",
    "    ## populate dataD\n",
    "    dataD['testacc-%s'%cond_i[0]] = testacc\n",
    "  # \n",
    "  dfL.append(pd.DataFrame(index=[0],data=dataD))\n",
    "gsdf = pd.concat(dfL)\n"
   ]
  },
  {
   "cell_type": "code",
   "execution_count": null,
   "metadata": {},
   "outputs": [],
   "source": [
    "### save gsdf: takes really long to run\n",
    "gsdf.to_csv('data/%s-summdf.csv'%gsname)\n",
    "### "
   ]
  },
  {
   "cell_type": "code",
   "execution_count": null,
   "metadata": {
    "scrolled": true
   },
   "outputs": [],
   "source": [
    "## subset of dataframe containing relevant params\n",
    "Btest = gsdf.loc[:,'testacc-b'] > 0.8\n",
    "Itest1 = gsdf.loc[:,'testacc-i'] > 0.5\n",
    "Itest2 = gsdf.loc[:,'testacc-i'] < 0.65\n",
    "Etest = gsdf.loc[:,'testacc-e'] > 0.8\n",
    "Mtest = gsdf.loc[:,'testacc-m'] > 0.8\n",
    "Ltest = gsdf.loc[:,'testacc-l'] > 0.8\n",
    "MItest = gsdf.loc[:,'testacc-m'] - gsdf.loc[:,'testacc-i'] > 0.1\n",
    "LItest = gsdf.loc[:,'testacc-l'] - gsdf.loc[:,'testacc-i'] > 0.1\n",
    "\n",
    "C = Btest&Itest2&Itest1&MItest\n",
    "sgsdf = gsdf[C]\n",
    "sgsdf"
   ]
  },
  {
   "cell_type": "markdown",
   "metadata": {},
   "source": [
    "### plt single condition"
   ]
  },
  {
   "cell_type": "code",
   "execution_count": null,
   "metadata": {},
   "outputs": [],
   "source": [
    "## select single param for plotting full acc trace\n",
    "row = sgsdf.iloc[-1]\n",
    "\n",
    "query_str = \" and \".join(\n",
    "  [\"%s == %f\"%(k,v) for k,v in dict(row[:8].round(4)).items()]\n",
    ")\n",
    "\n",
    "## df of single parameter condition\n",
    "cond_df = datadf.round(4).query(query_str)"
   ]
  },
  {
   "cell_type": "code",
   "execution_count": null,
   "metadata": {},
   "outputs": [],
   "source": [
    "f,axar = plt.subplots(1,1,figsize=(20,8))\n",
    "ax=axar\n",
    "for c,cdf in cond_df.groupby('cond'):\n",
    "  ax.plot(np.arange(200),cdf.acc,label=c)\n",
    "ax.set_ylim(0,1)\n",
    "plt.legend()"
   ]
  },
  {
   "cell_type": "code",
   "execution_count": null,
   "metadata": {},
   "outputs": [],
   "source": []
  }
 ],
 "metadata": {
  "kernelspec": {
   "display_name": "Python 3",
   "language": "python",
   "name": "python3"
  },
  "language_info": {
   "codemirror_mode": {
    "name": "ipython",
    "version": 3
   },
   "file_extension": ".py",
   "mimetype": "text/x-python",
   "name": "python",
   "nbconvert_exporter": "python",
   "pygments_lexer": "ipython3",
   "version": "3.8.8"
  }
 },
 "nbformat": 4,
 "nbformat_minor": 4
}
