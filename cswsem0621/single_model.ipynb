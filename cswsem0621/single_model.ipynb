{
 "cells": [
  {
   "cell_type": "markdown",
   "metadata": {},
   "source": [
    "# inspect single model\n"
   ]
  },
  {
   "cell_type": "code",
   "execution_count": null,
   "metadata": {},
   "outputs": [],
   "source": [
    "from sklearn.metrics import adjusted_rand_score\n",
    "from matplotlib import pyplot as plt\n",
    "from scipy.special import softmax\n",
    "from itertools import product\n",
    "import numpy as np\n",
    "from utils import *\n",
    "from model import *\n",
    "import time\n",
    "import seaborn as sns\n",
    "sns.set_context('talk')\n",
    "\n",
    "%load_ext autoreload\n",
    "%reload_ext autoreload\n",
    "%autoreload 2\n",
    "%matplotlib inline"
   ]
  },
  {
   "cell_type": "markdown",
   "metadata": {},
   "source": [
    "### mse 0 \n",
    "gs0317-0-mse0.047-acc-concentration_1.525-stickiness_wi_1.084-stickiness_bt_1.084-sparsity_0.153-pvar_0.000-lrate_1.000-lratep_1.000-decay_rate_1.000-beta2_0.000-skipt1_1.000-ppd_allsch_0.000.png"
   ]
  },
  {
   "cell_type": "code",
   "execution_count": null,
   "metadata": {},
   "outputs": [],
   "source": [
    "## topmse\n",
    "schargs_mse0 ={\n",
    "  'concentration': 1.525,\n",
    "  'stickiness_wi': 1.084,\n",
    "  'stickiness_bt': 1.084,\n",
    "  'sparsity': 0.153\n",
    "}"
   ]
  },
  {
   "cell_type": "code",
   "execution_count": null,
   "metadata": {},
   "outputs": [],
   "source": [
    "schargs_ = schargs_mse0\n",
    "schargs = {\n",
    "   'concentration':schargs_['concentration'],\n",
    "   'stickiness_wi':schargs_['stickiness_wi'],\n",
    "   'stickiness_bt':schargs_['stickiness_bt'],\n",
    "   'sparsity':schargs_['sparsity'],\n",
    "   'pvar': 0,\n",
    "   'lrate':1,\n",
    "   'lratep':1,\n",
    "   'decay_rate':1,\n",
    "}\n",
    "semargs = {\n",
    "  'beta2':False,\n",
    "  'skipt1':True,\n",
    "  'ppd_allsch':False\n",
    "}\n"
   ]
  },
  {
   "cell_type": "code",
   "execution_count": null,
   "metadata": {},
   "outputs": [],
   "source": [
    "taskargs = {\n",
    "  'condition':'blocked',\n",
    "  'n_train':160,\n",
    "  'n_test':40\n",
    "}\n",
    "args = {\n",
    "    'sem':semargs,\n",
    "    'sch':schargs,\n",
    "    'exp':taskargs\n",
    "}\n",
    "param_str = \"-\".join([\"%s_%.3f\"%(i,j) for i,j in schargs.items()])\n",
    "param_str += \"-\"+\"-\".join([\"%s_%.3f\"%(i,j) for i,j in semargs.items()])\n",
    "param_str"
   ]
  },
  {
   "cell_type": "code",
   "execution_count": null,
   "metadata": {},
   "outputs": [],
   "source": [
    "## timestamp and dir for saving\n",
    "import os\n",
    "tstamp = time.perf_counter_ns()\n",
    "figdir = 'figures/single_model_nb/%s-%i/'%(param_str,tstamp)\n",
    "os.makedirs(figdir)"
   ]
  },
  {
   "cell_type": "markdown",
   "metadata": {},
   "source": [
    "### main"
   ]
  },
  {
   "cell_type": "code",
   "execution_count": null,
   "metadata": {},
   "outputs": [],
   "source": [
    "ns = 50\n",
    "L = []\n",
    "condL = ['blocked','interleaved',\n",
    "         'early','middle','late'\n",
    "        ]\n",
    "exp_batch_data = run_batch_exp_curr(ns,args,condL) # [curr,seeds,{data}]\n"
   ]
  },
  {
   "cell_type": "markdown",
   "metadata": {},
   "source": [
    "# accuracy analyses"
   ]
  },
  {
   "cell_type": "code",
   "execution_count": null,
   "metadata": {},
   "outputs": [],
   "source": [
    "## accuracy\n",
    "batch_acc = unpack_acc(exp_batch_data,mean_over_tsteps=False) # curr,seeds,tsteps,trials\n",
    "mean_acc = batch_acc.mean((1,2))\n",
    "test_acc = mean_acc[:,-40:].mean(1) \n",
    "test_acc"
   ]
  },
  {
   "cell_type": "code",
   "execution_count": null,
   "metadata": {},
   "outputs": [],
   "source": [
    "plt.figure(figsize=(20,6))\n",
    "M = mean_acc[:,-40:].mean(1)\n",
    "S = mean_acc[:,-40:].std(1)/np.sqrt(ns)\n",
    "plt.bar(condL,test_acc,yerr=S)\n",
    "plt.ylim(0.2,1.05)\n",
    "plt.axhline(0.5,c='r')\n",
    "plt.title(param_str)\n",
    "plt.grid(True,axis='y')\n",
    "plt.savefig(figdir+'Mtestacc.png')"
   ]
  },
  {
   "cell_type": "code",
   "execution_count": null,
   "metadata": {},
   "outputs": [],
   "source": [
    "plt.figure(figsize=(20,10))\n",
    "for idx in range(len(condL)):\n",
    "  plt.plot(mean_acc[idx],label=condL[idx])\n",
    "plt.legend()\n",
    "plt.axhline(0.5,c='k',ls='--')\n",
    "plt.ylim(-0.05,1.01)\n",
    "plt.title(param_str)\n",
    "plt.grid(True,axis='y')\n",
    "plt.savefig(figdir+'acc-by-time.png')\n"
   ]
  },
  {
   "cell_type": "code",
   "execution_count": null,
   "metadata": {},
   "outputs": [],
   "source": [
    "batch_acc.shape #curr,seeds,tsteps,trials\n",
    "f,axar=plt.subplots(1,2,figsize=(20,5))\n",
    "for cidx in range(2):\n",
    "  ax= axar[cidx]\n",
    "  _acc = batch_acc[cidx].mean(1)\n",
    "  ax.plot(_acc.mean(0),c='b')\n",
    "  for sacc in _acc:\n",
    "    ax.plot(sacc,c='k',lw=.05)\n",
    "    \n",
    "plt.ylim(-0.05,1.01)\n",
    "plt.savefig(figdir+'seed-acc-by-time-BI.png')"
   ]
  },
  {
   "cell_type": "markdown",
   "metadata": {},
   "source": [
    "# infered schema"
   ]
  },
  {
   "cell_type": "code",
   "execution_count": null,
   "metadata": {},
   "outputs": [],
   "source": [
    "## count number of schemas used\n",
    "def count_num_schemas(exp_data):\n",
    "  \"\"\" \n",
    "  \"\"\"\n",
    "  L = []\n",
    "  for curr_idx in range(len(condL)):\n",
    "    num_schemas_used = [\n",
    "      len(np.unique(exp_data[curr_idx][i]['zt'][:,:-1].flatten())\n",
    "         ) for i in range(ns)\n",
    "    ]\n",
    "    L.append(num_schemas_used)\n",
    "  nschemas = np.array(L)\n",
    "  return nschemas\n",
    "\n",
    "\n",
    "nschemas = count_num_schemas(exp_batch_data)\n",
    "M = nschemas.mean(1)\n",
    "S = nschemas.std(1)\n",
    "plt.figure(figsize=(20,10))\n",
    "plt.title('number schemas used')\n",
    "plt.violinplot(nschemas.T,np.arange(len(condL)),showmeans=True)\n",
    "# plt.bar(condL,M,zorder=-100,alpha=0.1)\n",
    "ax = plt.gca()\n",
    "ax.set_xticks(range(len(condL)))\n",
    "ax.set_xticklabels(condL)\n",
    "plt.grid(True,axis='y')\n",
    "plt.title(param_str)\n",
    "plt.savefig(figdir+'nsch-violin.png')"
   ]
  },
  {
   "cell_type": "code",
   "execution_count": null,
   "metadata": {},
   "outputs": [],
   "source": [
    "curr_idx = 0\n",
    "seed_idx = 1\n",
    "## \n",
    "prior = unpack_data(exp_batch_data,\n",
    "        dtype='prior')[curr_idx][seed_idx]\n",
    "like = unpack_data(exp_batch_data,\n",
    "        dtype='like')[curr_idx][seed_idx]\n",
    "post = unpack_data(exp_batch_data,\n",
    "        dtype='post')[curr_idx][seed_idx]\n",
    "post.shape"
   ]
  },
  {
   "cell_type": "markdown",
   "metadata": {},
   "source": [
    "### adjusted rand score"
   ]
  },
  {
   "cell_type": "code",
   "execution_count": null,
   "metadata": {},
   "outputs": [],
   "source": [
    "def calc_adjrand(exp_batch_data):\n",
    "  arscores = -np.ones([len(condL),ns,3])\n",
    "  for curr_idx in range(len(condL)):\n",
    "    for seed_idx in range(ns):\n",
    "      for t_idx,tstep in enumerate([0,2,3]):\n",
    "        arscores[curr_idx,seed_idx,t_idx] = adjusted_rand_score(\n",
    "          exp_batch_data[curr_idx][seed_idx]['exp'][:,1],\n",
    "          exp_batch_data[curr_idx][seed_idx]['zt'][:,tstep]\n",
    "        )\n",
    "  return arscores\n",
    "\n",
    "arscores = calc_adjrand(exp_batch_data)"
   ]
  },
  {
   "cell_type": "code",
   "execution_count": null,
   "metadata": {
    "scrolled": true
   },
   "outputs": [],
   "source": [
    "f,axar=plt.subplots(1,3,figsize=(30,6),sharey=True)\n",
    "for t in range(3):\n",
    "  ax=axar[t]\n",
    "  ax.violinplot(arscores[:,:,t].T,showextrema=1,showmeans=1)\n",
    "  for c in range(len(condL)):\n",
    "    ax.scatter(np.repeat(c+1,ns),arscores[c,:,t].T)\n",
    "  ax.set_xticks(np.arange(1,len(condL)+1))\n",
    "  ax.set_xticklabels(condL)\n",
    "  ax.set_title(['0','2','3'][t])\n",
    "plt.suptitle(param_str)\n",
    "plt.savefig(figdir+'adjrand')"
   ]
  },
  {
   "cell_type": "code",
   "execution_count": null,
   "metadata": {
    "scrolled": true
   },
   "outputs": [],
   "source": [
    "curr = 0\n",
    "for seed in range(20):\n",
    "  print('seed',seed)\n",
    "  zt = exp_batch_data[curr][seed]['zt']\n",
    "  st = exp_batch_data[curr][seed]['exp']\n",
    "\n",
    "  prior = unpack_data(exp_batch_data,\n",
    "          dtype='prior')[curr][seed] # trial,tstep,sch\n",
    "  like = unpack_data(exp_batch_data,\n",
    "          dtype='like')[curr][seed]\n",
    "  post = unpack_data(exp_batch_data,\n",
    "          dtype='post')[curr][seed]\n",
    "  xth = exp_batch_data[curr][seed]['xth'].argmax(-1)\n",
    "\n",
    "\n",
    "  for i in np.arange(83):\n",
    "#   for i in np.arange(100):\n",
    "#   for i in np.arange(5):\n",
    "    \n",
    "    print(\"t%.2i\"%i,'z_h=',zt[i],'st=',st[i],'xth=',xth[i]\n",
    "  #        post[i,:,1],\n",
    "  #        post[i,:,2]\n",
    "         )"
   ]
  },
  {
   "cell_type": "markdown",
   "metadata": {},
   "source": [
    "# interleaved failure"
   ]
  },
  {
   "cell_type": "code",
   "execution_count": null,
   "metadata": {
    "scrolled": true
   },
   "outputs": [],
   "source": [
    "### analysis of failed interleaved seeds\n",
    "IseedAcc = batch_acc[1].mean(1) # seeds,trials\n",
    "print(IseedAcc.shape)\n",
    "fg,axar = plt.subplots(10,5,figsize=(25,40),sharex=True,sharey=True);axar=axar.reshape(-1)\n",
    "for si in range(len(IseedAcc)):\n",
    "  ax=axar[si]\n",
    "  sacc = IseedAcc[si]\n",
    "  ax.plot(sacc,c='k',lw=.8)\n",
    "  ax.plot(movavg(sacc,10),c='b')\n",
    "plt.savefig(figdir+'Iseed-acc.png')"
   ]
  },
  {
   "cell_type": "code",
   "execution_count": null,
   "metadata": {},
   "outputs": [],
   "source": [
    "assert False"
   ]
  },
  {
   "cell_type": "markdown",
   "metadata": {},
   "source": [
    "# posterior, likelihood, prior\n",
    "### analysis of model state"
   ]
  },
  {
   "cell_type": "code",
   "execution_count": null,
   "metadata": {
    "scrolled": true
   },
   "outputs": [],
   "source": [
    "def plt_prdata(dtype='post',schL=[0,1],curr_idx=0,seed_idx=0):\n",
    "  \"\"\" \n",
    "  plots probability data (post,prior,like) \n",
    "  of at most 3 timesteps of 4 schemas\n",
    "  NB single seed\n",
    "  \"\"\"\n",
    "  # load data\n",
    "  prdata = unpack_data(exp_batch_data,\n",
    "          dtype=dtype)[curr_idx][seed_idx]\n",
    "  # setup plots\n",
    "  f,axar = plt.subplots(3,4,figsize=(20,10),sharex=True,sharey=True)\n",
    "  # loop over timesteps and schema\n",
    "  for ti,tstep in enumerate([0,2,3]):\n",
    "    for si,sch in enumerate(schL):\n",
    "      axar[0,si].set_title('sch%i'%sch)\n",
    "      ax = axar[ti,si]\n",
    "      # plot\n",
    "      ax.plot(prdata[:,tstep,sch])\n",
    "      for k in np.arange(0,200,40):\n",
    "        ax.axvline(k,c='k',lw=0.5)\n",
    "    axar[ti,0].set_ylabel('tstep%i'%tstep)\n",
    "  title = '%s-%s'%(dtype,param_str)\n",
    "  plt.suptitle(title)\n",
    "  plt.savefig(figdir+'%s.png'%dtype)\n",
    "\n"
   ]
  },
  {
   "cell_type": "code",
   "execution_count": null,
   "metadata": {},
   "outputs": [],
   "source": [
    "curr_idx=1\n",
    "seed_idx=0\n",
    "nsch = len(np.unique(exp_batch_data[curr_idx][seed_idx]['zt']))-1\n",
    "print(nsch)\n",
    "schL = [0,1]\n",
    "plt_prdata('prior',schL,curr_idx,seed_idx)"
   ]
  },
  {
   "cell_type": "code",
   "execution_count": null,
   "metadata": {
    "scrolled": true
   },
   "outputs": [],
   "source": [
    "plt_prdata('post',schL,curr_idx,seed_idx)"
   ]
  },
  {
   "cell_type": "code",
   "execution_count": null,
   "metadata": {},
   "outputs": [],
   "source": [
    "plt_prdata('like',schL,curr_idx,seed_idx)"
   ]
  },
  {
   "cell_type": "markdown",
   "metadata": {},
   "source": [
    "# inspect splitting"
   ]
  },
  {
   "cell_type": "code",
   "execution_count": null,
   "metadata": {
    "scrolled": true
   },
   "outputs": [],
   "source": [
    "curr_idx,seed_idx=0,5\n",
    "print('zt\\n',exp_batch_data[curr_idx][seed_idx]['zt'][:3])\n",
    "for k in ['post','prior','like']:\n",
    "  print(k)\n",
    "  print(exp_batch_data[curr_idx][seed_idx][k][:2,:,:5])\n",
    "exp_batch_data[curr_idx][seed_idx][k].shape"
   ]
  },
  {
   "cell_type": "markdown",
   "metadata": {},
   "source": [
    "# inspect prediction"
   ]
  },
  {
   "cell_type": "code",
   "execution_count": null,
   "metadata": {},
   "outputs": [],
   "source": [
    "curr_idx,seed_idx=1,1\n",
    "exp_batch_data[curr_idx][seed_idx]['xth'].argmax(-1)\n"
   ]
  },
  {
   "cell_type": "code",
   "execution_count": null,
   "metadata": {},
   "outputs": [],
   "source": [
    "curr_idx,seed_idx=0,5\n",
    "print('zt\\n',exp_batch_data[curr_idx][seed_idx]['zt'][:3])\n",
    "for k in ['xth']:\n",
    "  print(k)\n",
    "  print(exp_batch_data[curr_idx][seed_idx][k][:2,:,:5])\n",
    "exp_batch_data[curr_idx][seed_idx][k].shape"
   ]
  },
  {
   "cell_type": "code",
   "execution_count": null,
   "metadata": {
    "scrolled": true
   },
   "outputs": [],
   "source": [
    "# def get_bad_seed(exp_batch_data,max_splits=10):\n",
    "#   bad_seed_L = []\n",
    "#   for curr_idx in range(5):\n",
    "#     for seed_idx in range(ns):\n",
    "#       max_sch = np.max(exp_batch_data[curr_idx][seed_idx]['zt'])\n",
    "#       if max_sch>max_splits:\n",
    "#         bad_seed_L.append(seed_idx)\n",
    "#   return list(set(bad_seed_L))\n",
    "# # get_bad_seed(exp_batch_data,max_splits=10)"
   ]
  }
 ],
 "metadata": {
  "kernelspec": {
   "display_name": "Python 3",
   "language": "python",
   "name": "python3"
  },
  "language_info": {
   "codemirror_mode": {
    "name": "ipython",
    "version": 3
   },
   "file_extension": ".py",
   "mimetype": "text/x-python",
   "name": "python",
   "nbconvert_exporter": "python",
   "pygments_lexer": "ipython3",
   "version": "3.8.8"
  }
 },
 "nbformat": 4,
 "nbformat_minor": 4
}
