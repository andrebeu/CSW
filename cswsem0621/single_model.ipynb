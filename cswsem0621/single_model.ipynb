{
 "cells": [
  {
   "cell_type": "markdown",
   "metadata": {},
   "source": [
    "# inspect single model\n"
   ]
  },
  {
   "cell_type": "code",
   "execution_count": 1,
   "metadata": {},
   "outputs": [],
   "source": [
    "from matplotlib import pyplot as plt\n",
    "from scipy.special import softmax\n",
    "from itertools import product\n",
    "import numpy as np\n",
    "from utils import *\n",
    "from model import *\n",
    "import time\n",
    "import seaborn as sns\n",
    "sns.set_context('talk')\n",
    "\n",
    "%load_ext autoreload\n",
    "%reload_ext autoreload\n",
    "%autoreload 2\n",
    "%matplotlib inline"
   ]
  },
  {
   "cell_type": "code",
   "execution_count": 2,
   "metadata": {},
   "outputs": [],
   "source": [
    "## timestamp and dir for saving\n",
    "tstamp = time.perf_counter_ns()\n",
    "import os\n",
    "os.mkdir('figures/scratch_folders/%i'%tstamp)"
   ]
  },
  {
   "cell_type": "code",
   "execution_count": 3,
   "metadata": {},
   "outputs": [],
   "source": [
    "## import human data for fitting\n",
    "import pandas as pd\n",
    "hdf = pd.read_csv('../human_data.csv')\n",
    "humanB_acc,humanI_acc = hdf.loc[:,('blocked mean','interleaved mean')].values.T"
   ]
  },
  {
   "cell_type": "code",
   "execution_count": 4,
   "metadata": {},
   "outputs": [
    {
     "data": {
      "text/plain": [
       "'concentration_15.410-stickiness_wi_5000.000-stickiness_bt_5.000-sparsity_1.500-pvar_2.000-lrate_1.000-lratep_1.000-decay_rate_1.000-beta2_0.000'"
      ]
     },
     "execution_count": 4,
     "metadata": {},
     "output_type": "execute_result"
    }
   ],
   "source": [
    "## default params\n",
    "taskargs = {\n",
    "  'condition':'blocked',\n",
    "  'n_train':160,\n",
    "  'n_test':40\n",
    "}\n",
    "schargs = {\n",
    "    'concentration':15.41,\n",
    "    'stickiness_wi':5000,\n",
    "    'stickiness_bt':5, # 100\n",
    "    'sparsity':1.5,\n",
    "    'pvar': 2,\n",
    "    'lrate':1,\n",
    "    'lratep':1,\n",
    "    'decay_rate':1,\n",
    "} \n",
    "semargs = {\n",
    "  'beta2':False\n",
    "}\n",
    "args = {\n",
    "    'sem':semargs,\n",
    "    'sch':schargs,\n",
    "    'exp':taskargs\n",
    "}\n",
    "param_str = \"-\".join([\"%s_%.3f\"%(i,j) for i,j in schargs.items()])\n",
    "param_str += \"-\"+\"-\".join([\"%s_%.3f\"%(i,j) for i,j in semargs.items()])\n",
    "param_str"
   ]
  },
  {
   "cell_type": "markdown",
   "metadata": {},
   "source": [
    "### main"
   ]
  },
  {
   "cell_type": "code",
   "execution_count": null,
   "metadata": {},
   "outputs": [],
   "source": [
    "ns = 10\n",
    "L = []\n",
    "condL = ['blocked','interleaved',\n",
    "         'early','middle','late'\n",
    "        ]\n",
    "exp_batch_data = run_batch_exp_curr(ns,args,condL) # [curr,seeds,{data}]\n"
   ]
  },
  {
   "cell_type": "code",
   "execution_count": null,
   "metadata": {},
   "outputs": [],
   "source": [
    "## accuracy\n",
    "batch_acc = unpack_acc(exp_batch_data) # curr,seeds,trials\n",
    "mean_acc = batch_acc.mean(1)\n",
    "test_acc = mean_acc[:,-40:].mean(1) # curr  \n",
    "test_acc"
   ]
  },
  {
   "cell_type": "code",
   "execution_count": null,
   "metadata": {},
   "outputs": [],
   "source": [
    "plt.figure(figsize=(10,3))\n",
    "plt.bar(condL,test_acc)\n",
    "plt.ylim(0.2,1.05)\n",
    "plt.axhline(0.5,c='r')"
   ]
  },
  {
   "cell_type": "code",
   "execution_count": null,
   "metadata": {},
   "outputs": [],
   "source": [
    "plt.figure(figsize=(10,5))\n",
    "for idx in range(len(condL)):\n",
    "  plt.plot(mean_acc[idx],label=condL[idx])\n",
    "plt.legend()"
   ]
  },
  {
   "cell_type": "code",
   "execution_count": null,
   "metadata": {},
   "outputs": [],
   "source": [
    "## count number of schemas used\n",
    "def count_num_schemas(exp_data):\n",
    "  \"\"\" \n",
    "  \"\"\"\n",
    "  L = []\n",
    "  for curr_idx in range(5):\n",
    "    num_schemas_used = [\n",
    "      len(np.unique(exp_data[curr_idx][seed_idx]['zt'][:,:-1].flatten())\n",
    "         ) for i in range(ns)\n",
    "    ]\n",
    "    L.append(num_schemas_used)\n",
    "  nschemas = np.array(L)\n",
    "  return nschemas\n",
    "\n",
    "\n",
    "nschemas = count_num_schemas(exp_batch_data)\n",
    "M = nschemas.mean(1)\n",
    "S = nschemas.std(1)\n",
    "plt.figure(figsize=(10,5))\n",
    "plt.title('number schemas used')\n",
    "plt.bar(condL,M,yerr=S)"
   ]
  },
  {
   "cell_type": "markdown",
   "metadata": {},
   "source": [
    "# model state"
   ]
  },
  {
   "cell_type": "code",
   "execution_count": null,
   "metadata": {},
   "outputs": [],
   "source": [
    "curr_idx = 0\n",
    "seed_idx = 0"
   ]
  },
  {
   "cell_type": "code",
   "execution_count": null,
   "metadata": {},
   "outputs": [],
   "source": [
    "priors = unpack_data(exp_batch_data,\n",
    "        dtype='priors')[curr_idx][seed_idx]\n",
    "likes = unpack_data(exp_batch_data,\n",
    "        dtype='likes')[curr_idx][seed_idx]\n",
    "post = unpack_data(exp_batch_data,\n",
    "        dtype='post')[curr_idx][seed_idx]\n"
   ]
  },
  {
   "cell_type": "code",
   "execution_count": null,
   "metadata": {},
   "outputs": [],
   "source": [
    "tstep = 3\n",
    "sch = 0\n",
    "priors[:,tstep,sch]\n"
   ]
  }
 ],
 "metadata": {
  "kernelspec": {
   "display_name": "Python 3",
   "language": "python",
   "name": "python3"
  },
  "language_info": {
   "codemirror_mode": {
    "name": "ipython",
    "version": 3
   },
   "file_extension": ".py",
   "mimetype": "text/x-python",
   "name": "python",
   "nbconvert_exporter": "python",
   "pygments_lexer": "ipython3",
   "version": "3.7.3"
  }
 },
 "nbformat": 4,
 "nbformat_minor": 4
}
