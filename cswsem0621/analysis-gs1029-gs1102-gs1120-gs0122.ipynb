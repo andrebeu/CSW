{
 "cells": [
  {
   "cell_type": "code",
   "execution_count": 1,
   "metadata": {},
   "outputs": [],
   "source": [
    "from matplotlib import pyplot as plt\n",
    "from scipy.special import softmax\n",
    "from itertools import product\n",
    "import numpy as np\n",
    "from utils import *\n",
    "from model import *\n",
    "import time\n",
    "import seaborn as sns\n",
    "from glob import glob as glob\n",
    "sns.set_context('talk')\n",
    "\n",
    "%load_ext autoreload\n",
    "%reload_ext autoreload\n",
    "%autoreload 2\n",
    "%matplotlib inline"
   ]
  },
  {
   "cell_type": "code",
   "execution_count": 2,
   "metadata": {},
   "outputs": [],
   "source": [
    "gsname = 'gs0125'"
   ]
  },
  {
   "cell_type": "markdown",
   "metadata": {},
   "source": [
    "### load data"
   ]
  },
  {
   "cell_type": "code",
   "execution_count": null,
   "metadata": {},
   "outputs": [],
   "source": [
    "# ## run make_df-1102.py to make dfs\n",
    "datadf = datadf1 = pd.read_csv('data/%s-datadf-1.csv'%gsname)\n",
    "datadf = datadf1 = pd.read_csv('data/%s-datadf-0.csv'%gsname)\n"
   ]
  },
  {
   "cell_type": "code",
   "execution_count": null,
   "metadata": {},
   "outputs": [],
   "source": [
    "gsdf = pd.read_csv('data/%s-summdf.csv'%gsname).astype(float)\n",
    "gsdf"
   ]
  },
  {
   "cell_type": "code",
   "execution_count": null,
   "metadata": {},
   "outputs": [],
   "source": [
    "## human data\n",
    "hdf = pd.read_csv('../human_data.csv')\n",
    "humanD = {}\n",
    "for c in ['blocked','interleaved','early','middle','late']:\n",
    "  humanD[c[0]] = hdf.loc[:,('%s mean')%c].values.T[-40:].mean()\n",
    "## difference to human\n",
    "for c in ['b','i','e','m','l']:\n",
    "  gsdf['%s-test_diff'%c] = np.abs(gsdf.loc[:,'testacc-%s'%c] - humanD[c])"
   ]
  },
  {
   "cell_type": "code",
   "execution_count": null,
   "metadata": {},
   "outputs": [],
   "source": [
    "# datadf.columns\n",
    "# paramL = ['concentration', 'stickiness_wi', 'stickiness_bt',\n",
    "#        'sparsity', 'pvar', 'lrate', 'lratep', 'decay_rate']"
   ]
  },
  {
   "cell_type": "code",
   "execution_count": null,
   "metadata": {},
   "outputs": [],
   "source": [
    "gsdf"
   ]
  },
  {
   "cell_type": "code",
   "execution_count": null,
   "metadata": {},
   "outputs": [],
   "source": [
    "gsdf.loc[:,'mse-bi'] = gsdf.loc[:,'mse-i']+gsdf.loc[:,'mse-b']"
   ]
  },
  {
   "cell_type": "markdown",
   "metadata": {},
   "source": [
    "### compute df metrics, form summary df"
   ]
  },
  {
   "cell_type": "code",
   "execution_count": null,
   "metadata": {},
   "outputs": [],
   "source": [
    "# subset of dataframe containing relevant params\n",
    "Btest = gsdf.loc[:,'testacc-b'] > 0.95\n",
    "Itest1 = gsdf.loc[:,'testacc-i'] > 0.6\n",
    "Itest2 = gsdf.loc[:,'testacc-i'] < 0.65\n",
    "Etest = gsdf.loc[:,'testacc-e'] > 0.8\n",
    "Mtest = gsdf.loc[:,'testacc-m'] < 0.9\n",
    "Mtest2 = gsdf.loc[:,'testacc-m'] < 0.85\n",
    "Ltest = gsdf.loc[:,'testacc-l'] < 0.9\n",
    "Iblock2 = gsdf.loc[:,'acc2-i'] > 0.51\n",
    "skipt1 = gsdf.loc[:,'skipt1'] == 0\n",
    "MItest = gsdf.loc[:,'testacc-m'] - gsdf.loc[:,'testacc-i'] > 0.1\n",
    "LItest = gsdf.loc[:,'testacc-l'] - gsdf.loc[:,'testacc-i'] > 0.1\n",
    "\n",
    "C = Btest&Mtest&Ltest\n",
    "sgsdf = gsdf[C]\n",
    "sgsdf = sgsdf.sort_values('testacc-l',ascending=False)\n",
    "sgsdf"
   ]
  },
  {
   "cell_type": "markdown",
   "metadata": {},
   "source": [
    "### plt single condition"
   ]
  },
  {
   "cell_type": "code",
   "execution_count": null,
   "metadata": {},
   "outputs": [],
   "source": [
    "def get_cond_df(row):\n",
    "  ## form query string for above row\n",
    "  query_str = \" and \".join(\n",
    "    [\"%s == %f\"%(k,v) for k,v in dict(row.astype(float)[1:10].round(4)).items()]\n",
    "  )\n",
    "  print('query',query_str)\n",
    "  ## df of single parameter condition`\n",
    "  cond_df = datadf1.round(4).query(query_str)\n",
    "  if not len(cond_df):\n",
    "    cond_df = datadf2.round(4).query(query_str)\n",
    "  paramstr = \"__\".join([\"%s-%s\"%(k,v) for k,v in cond_df.iloc[0][1:12].items()])\n",
    "  print('found',paramstr)\n",
    "  return cond_df\n"
   ]
  },
  {
   "cell_type": "code",
   "execution_count": null,
   "metadata": {},
   "outputs": [],
   "source": [
    "def plt_cond_df(cond_df):\n",
    "  f,axar = plt.subplots(1,1,figsize=(20,8))\n",
    "  ax=axar\n",
    "  paramstr = \"__\".join([\"%s-%s\"%(k,v) for k,v in cond_df.iloc[0][1:12].items()])\n",
    "  for c,cdf in cond_df.groupby('cond'):\n",
    "    try:\n",
    "#       if c not in ['blocked','interleaved']:\n",
    "#         print('FIGURES WITH BI ONLY')\n",
    "#         continue\n",
    "      ax.plot(np.arange(200),cdf.acc,label=c)\n",
    "    except:\n",
    "      print('err',paramstr,c)\n",
    "      continue\n",
    "  ax.set_ylim(0,1)\n",
    "  plt.legend()\n",
    "  plt.axhline(0.5,c='k',ls='--')\n",
    "  \n",
    "  plt.title(\"%s\\n%s\"%(paramstr[:94],paramstr[94:]))\n",
    "  plt.savefig('figures/analysis_gs/acc-%s.png'%paramstr)\n"
   ]
  },
  {
   "cell_type": "code",
   "execution_count": null,
   "metadata": {},
   "outputs": [],
   "source": [
    "## select single param for plotting full acc trace\n",
    "row = sgsdf.sort_values('testacc-l',ascending=False).iloc[0]\n",
    "# print(row.astype(float))\n",
    "cond_df = get_cond_df(row)"
   ]
  },
  {
   "cell_type": "code",
   "execution_count": null,
   "metadata": {
    "scrolled": true
   },
   "outputs": [],
   "source": [
    "## TOP PARAM BY MSE\n",
    "row = gsdf.sort_values('mse-bi').iloc[0]\n",
    "print(row.astype(float))\n",
    "cond_df = get_cond_df(row)\n",
    "plt_cond_df(cond_df)\n",
    "# plt.savefig('figures/gs0125-topMSE')"
   ]
  },
  {
   "cell_type": "markdown",
   "metadata": {},
   "source": [
    "### plot full subtable"
   ]
  },
  {
   "cell_type": "code",
   "execution_count": null,
   "metadata": {
    "scrolled": true
   },
   "outputs": [],
   "source": [
    "for idx,row in sgsdf.iterrows():\n",
    "  print()\n",
    "  cond_df = get_cond_df(row)\n",
    "  plt_cond_df(cond_df)\n",
    "  plt.close('all')"
   ]
  }
 ],
 "metadata": {
  "kernelspec": {
   "display_name": "Python 3",
   "language": "python",
   "name": "python3"
  },
  "language_info": {
   "codemirror_mode": {
    "name": "ipython",
    "version": 3
   },
   "file_extension": ".py",
   "mimetype": "text/x-python",
   "name": "python",
   "nbconvert_exporter": "python",
   "pygments_lexer": "ipython3",
   "version": "3.8.8"
  }
 },
 "nbformat": 4,
 "nbformat_minor": 4
}
