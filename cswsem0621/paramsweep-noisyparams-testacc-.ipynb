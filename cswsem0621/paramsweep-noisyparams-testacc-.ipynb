{
 "cells": [
  {
   "cell_type": "markdown",
   "metadata": {},
   "source": [
    "# implement line sweeps of params\n",
    "- all params fixed expcet one, which is swept over range\n",
    "- specifically looking at test accuracy as a function of one param\n"
   ]
  },
  {
   "cell_type": "code",
   "execution_count": 1,
   "metadata": {},
   "outputs": [],
   "source": [
    "from matplotlib import pyplot as plt\n",
    "from scipy.special import softmax\n",
    "from itertools import product\n",
    "import numpy as np\n",
    "from utils import *\n",
    "import time\n",
    "import seaborn as sns\n",
    "sns.set_context('talk')\n",
    "\n",
    "%load_ext autoreload\n",
    "%reload_ext autoreload\n",
    "%autoreload 2\n",
    "%matplotlib inline"
   ]
  },
  {
   "cell_type": "code",
   "execution_count": 2,
   "metadata": {},
   "outputs": [],
   "source": [
    "tstamp = time.perf_counter_ns()\n",
    "import os\n",
    "os.mkdir('figures/scratch_folders/%i'%tstamp)"
   ]
  },
  {
   "cell_type": "code",
   "execution_count": 3,
   "metadata": {},
   "outputs": [],
   "source": [
    "## import human data for fitting\n",
    "import pandas as pd\n",
    "hdf = pd.read_csv('../human_data.csv')\n",
    "humanB_acc,humanI_acc = hdf.loc[:,('blocked mean','interleaved mean')].values.T"
   ]
  },
  {
   "cell_type": "code",
   "execution_count": 4,
   "metadata": {},
   "outputs": [],
   "source": [
    "def get_sm(xth,norm=True):\n",
    "  \"\"\" \n",
    "  given x_t_hat from subject\n",
    "  [trial,layer,node]\n",
    "  get 2afc normalized softmax for layer 2/3\n",
    "  return: [layer2/3,trial,node56/78]\n",
    "  norm=true \n",
    "   apply softmax to xth\n",
    "   when prediction done with multiple schemas\n",
    "  \"\"\"\n",
    "  nodes = {2:(5,6),3:(7,8)} \n",
    "  L = [] # layer 2 and 3\n",
    "  for l,ns in nodes.items():\n",
    "    y = xth[:,l,ns]\n",
    "    if norm:\n",
    "      y=softmax(y,1)\n",
    "    L.append(y)\n",
    "  return np.array(L)\n",
    "\n",
    "def get_acc(data):\n",
    "  \"\"\" \n",
    "  returns 2afc softmax of \n",
    "  layer 2/3 transitions\n",
    "  \"\"\"\n",
    "  ysm = get_sm(data['xth'])\n",
    "  L = []\n",
    "  for i in range(2):\n",
    "    ysml = ysm[i,:,:]\n",
    "    yt = data['exp'][:,i+3] \n",
    "    pr_yt = ysml[range(len(ysml)),yt - (5+2*i)] # \n",
    "    L.append(pr_yt)\n",
    "  return np.array(L)\n"
   ]
  },
  {
   "cell_type": "code",
   "execution_count": 5,
   "metadata": {
    "scrolled": true
   },
   "outputs": [],
   "source": [
    "### RUN EXP\n",
    "def run_batch_exp(ns,args):\n",
    "  \"\"\" exp over seeds, single \n",
    "  task_condition param config\n",
    "  return full data\n",
    "  \"\"\"\n",
    "  dataL = []\n",
    "  for i in range(ns):\n",
    "    task = Task()\n",
    "    sem = SEM(args['sch'])\n",
    "    exp,curr  = task.generate_experiment(**args['exp'])\n",
    "    data = sem.run_exp(exp)\n",
    "    data['exp']=exp\n",
    "    dataL.append(data)\n",
    "  return dataL\n",
    "\n",
    "def run_batch_exp_curr(ns,args,currL=['blocked','interleaved']):\n",
    "  \"\"\" loop over task conditions, return accuracy\n",
    "  return shape [task_condition,seed,trial]\n",
    "  \"\"\"\n",
    "  L = []\n",
    "  for curr in currL:\n",
    "    args['exp']['condition'] = curr\n",
    "    dataL = run_batch_exp(ns,args)\n",
    "    acc = np.array([get_acc(data) for data in dataL]).mean(1) # mean over layer\n",
    "    L.append(acc)\n",
    "  return np.array(L)"
   ]
  },
  {
   "cell_type": "code",
   "execution_count": 6,
   "metadata": {},
   "outputs": [
    {
     "data": {
      "text/plain": [
       "'concentration_1.400-stickiness_wi_5000.000-stickiness_bt_5.000-sparsity_0.080-pvar_2.000-lrate_0.800'"
      ]
     },
     "execution_count": 6,
     "metadata": {},
     "output_type": "execute_result"
    }
   ],
   "source": [
    "## default params\n",
    "expargs = {\n",
    "  'condition':'blocked',\n",
    "  'n_train':160,\n",
    "  'n_test':40\n",
    "}\n",
    "schargs = {\n",
    "    'concentration':1.4,\n",
    "    'stickiness_wi':5000,\n",
    "    'stickiness_bt':5, # 100\n",
    "    'sparsity':0.08,\n",
    "    'pvar': 2,\n",
    "    'lrate':0.8\n",
    "} \n",
    "args = {\n",
    "    'sch':schargs,\n",
    "    'exp':expargs\n",
    "}\n",
    "param_str = \"-\".join([\"%s_%.3f\"%(i,j) for i,j in schargs.items()])\n",
    "param_str"
   ]
  },
  {
   "cell_type": "code",
   "execution_count": 7,
   "metadata": {},
   "outputs": [
    {
     "data": {
      "text/plain": [
       "('lrate', array([0.1, 0.2, 0.3, 0.4, 0.5, 0.6, 0.7, 0.8, 0.9]))"
      ]
     },
     "execution_count": 7,
     "metadata": {},
     "output_type": "execute_result"
    }
   ],
   "source": [
    "# p_name = 'concentration' # 1.4\n",
    "# p_vals = np.arange(0.9,1.1,0.005)\n",
    "\n",
    "# p_name = 'stickiness_wi' # 5000\n",
    "# p_vals = np.arange(0,10000,500)\n",
    "\n",
    "# p_name = 'stickiness_bt' # 100\n",
    "# p_vals = np.arange(0,10,3)\n",
    "\n",
    "# p_name = 'sparsity' # 0.08\n",
    "# p_vals = np.arange(0.01,2,0.05)\n",
    "\n",
    "# p_name = 'pvar' # 0\n",
    "# p_vals = np.arange(1,2,0.1)\n",
    "\n",
    "p_name = 'lrate' # 1\n",
    "p_vals = np.arange(0.1,1,0.1)\n",
    "\n",
    "p_name,p_vals"
   ]
  },
  {
   "cell_type": "code",
   "execution_count": 8,
   "metadata": {},
   "outputs": [],
   "source": [
    "def pltsave_macc(macc,schargs=None,labL=['B','I','E','M','L'],close=True):\n",
    "  \"\"\" \n",
    "  save accuracy of individual parameter setting \n",
    "  used in paramsearch loops\n",
    "  \"\"\"\n",
    "  plt.figure(figsize=(10,4))\n",
    "  ax=plt.gca()\n",
    "  for idx in range(len(macc)):\n",
    "    ax.plot(macc[idx],label=labL[idx])\n",
    "  ax.axhline(0.5,c='k')\n",
    "  plt.legend()\n",
    "  param_str = \"-\".join([\"%s_%.3f\"%(i,j) for i,j in schargs.items()])\n",
    "  plt.savefig('figures/scratch_folders/%i/%s.jpg'%(tstamp,param_str))\n",
    "  if close:\n",
    "    plt.close('all')\n",
    "  return None"
   ]
  },
  {
   "cell_type": "code",
   "execution_count": null,
   "metadata": {},
   "outputs": [],
   "source": [
    "ns = 100\n",
    "L = []\n",
    "condL = ['blocked','interleaved','early','middle','late']\n",
    "for idx,p_val in enumerate(p_vals):\n",
    "  \n",
    "  args['sch'][p_name] = p_val\n",
    "  model_seed_acc = run_batch_exp_curr(ns,args,condL) # [B/I,seeds,trials]\n",
    "  model_acc = model_seed_acc.mean(1)\n",
    "  model_testacc = model_acc[:,-40:].mean(1)\n",
    "  \n",
    "  ## save traces of EML for each param setting\n",
    "  pltsave_macc(model_acc[2:],args['sch'],labL=['E','M','L'])\n",
    "  \n",
    "  ## record\n",
    "  gsD = {**schargs,\n",
    "        **dict(zip(condL,model_testacc))\n",
    "        }\n",
    "\n",
    "  L.append(gsD)\n",
    "gsdf = pd.DataFrame(L)"
   ]
  },
  {
   "cell_type": "code",
   "execution_count": null,
   "metadata": {
    "scrolled": true
   },
   "outputs": [],
   "source": [
    "gsdf"
   ]
  },
  {
   "cell_type": "code",
   "execution_count": null,
   "metadata": {},
   "outputs": [],
   "source": [
    "plt.figure(figsize=(20,10))\n",
    "ax = plt.gca()\n",
    "gsdf.plot(p_name,condL,ax=ax)\n",
    "ax.set_ylim(0.4,1.05)\n",
    "ax.set_ylabel('test acc')\n",
    "plt.savefig('figures/scratch/testacc-param_sweep-%s-default_%s-t%s.png'%(\n",
    "  p_name,param_str,tstamp))"
   ]
  }
 ],
 "metadata": {
  "kernelspec": {
   "display_name": "Python 3",
   "language": "python",
   "name": "python3"
  },
  "language_info": {
   "codemirror_mode": {
    "name": "ipython",
    "version": 3
   },
   "file_extension": ".py",
   "mimetype": "text/x-python",
   "name": "python",
   "nbconvert_exporter": "python",
   "pygments_lexer": "ipython3",
   "version": "3.7.3"
  }
 },
 "nbformat": 4,
 "nbformat_minor": 4
}
