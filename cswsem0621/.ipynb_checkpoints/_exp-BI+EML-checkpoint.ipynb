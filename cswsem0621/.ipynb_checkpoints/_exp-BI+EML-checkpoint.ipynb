{
 "cells": [
  {
   "cell_type": "markdown",
   "metadata": {},
   "source": [
    "# verbose script inspecting model state"
   ]
  },
  {
   "cell_type": "code",
   "execution_count": 1,
   "metadata": {},
   "outputs": [],
   "source": [
    "from matplotlib import pyplot as plt\n",
    "from scipy.special import softmax\n",
    "import numpy as np\n",
    "from utils import *\n",
    "import seaborn as sns\n",
    "sns.set_context('talk')\n",
    "\n",
    "%load_ext autoreload\n",
    "%reload_ext autoreload\n",
    "%autoreload 2\n",
    "%matplotlib inline"
   ]
  },
  {
   "cell_type": "code",
   "execution_count": 2,
   "metadata": {},
   "outputs": [],
   "source": [
    "import time\n",
    "tstamp = time.perf_counter_ns()"
   ]
  },
  {
   "cell_type": "code",
   "execution_count": 3,
   "metadata": {},
   "outputs": [],
   "source": [
    "## import human data for fitting\n",
    "import pandas as pd\n",
    "hdf = pd.read_csv('../human_data.csv')\n",
    "hB,hI = hdf.loc[:,('blocked mean','interleaved mean')].values.T"
   ]
  },
  {
   "cell_type": "markdown",
   "metadata": {},
   "source": [
    "### run full exp"
   ]
  },
  {
   "cell_type": "code",
   "execution_count": 4,
   "metadata": {},
   "outputs": [],
   "source": [
    "def get_sm(xth,norm=True):\n",
    "  \"\"\" \n",
    "  given x_t_hat from subject\n",
    "  [trial,layer,node]\n",
    "  get 2afc normalized softmax for layer 2/3\n",
    "  return: [layer2/3,trial,node56/78]\n",
    "  norm=true \n",
    "   apply softmax to xth\n",
    "   when prediction done with multiple schemas\n",
    "  \"\"\"\n",
    "  nodes = {2:(5,6),3:(7,8)} \n",
    "  L = [] # layer 2 and 3\n",
    "  for l,ns in nodes.items():\n",
    "    y = xth[:,l,ns]\n",
    "    if norm:\n",
    "      y=softmax(y,1)\n",
    "    L.append(y)\n",
    "  return np.array(L)\n",
    "\n",
    "def get_acc(data):\n",
    "  \"\"\" \n",
    "  returns 2afc softmax of \n",
    "  layer 2/3 transitions\n",
    "  \"\"\"\n",
    "  ysm = get_sm(data['xth'])\n",
    "  L = []\n",
    "  for i in range(2):\n",
    "    ysml = ysm[i,:,:]\n",
    "    yt = data['exp'][:,i+3] \n",
    "    pr_yt = ysml[range(len(ysml)),yt - (5+2*i)] # \n",
    "    L.append(pr_yt)\n",
    "  return np.array(L)\n"
   ]
  },
  {
   "cell_type": "code",
   "execution_count": 5,
   "metadata": {},
   "outputs": [],
   "source": [
    "## processing data\n",
    "# def get_sm(xth):\n",
    "#   \"\"\" \n",
    "#   given x_t_hat from subject\n",
    "#   [trial,layer,node]\n",
    "#   get 2afc normalized softmax for layer 2/3\n",
    "#   return: [trial,layer2/3,node56/78]\n",
    "#   \"\"\"\n",
    "#   nodes = {2:(5,6),3:(7,8)} \n",
    "#   L = [] # layer 2 and 3\n",
    "#   for l,ns in nodes.items():\n",
    "#     y = xth[:,l,ns]\n",
    "#     L.append(y)\n",
    "#   return np.array(L)\n",
    "\n",
    "# def get_acc(data):\n",
    "#   \"\"\" \n",
    "#   returns 2afc softmax of \n",
    "#   layer 2/3 transitions\n",
    "#   \"\"\"\n",
    "#   ysm = get_sm(data['xth'])\n",
    "#   L = []\n",
    "#   for i in range(2):\n",
    "#     ysml = ysm[i]\n",
    "#     yt = data['exp'][:,i+3] \n",
    "#     pr_yt = ysml[range(len(ysml)),yt - (5+2*i)] # \n",
    "#     L.append(pr_yt)\n",
    "#   return np.array(L)\n",
    "\n",
    "### RUN EXP\n",
    "def run_batch_exp(ns,args):\n",
    "  \"\"\" exp over seeds, single task_condition param config\n",
    "  return full data\n",
    "  \"\"\"\n",
    "  dataL = []\n",
    "  for i in range(ns):\n",
    "    task = Task()\n",
    "    sem = SEM(args['sch'])\n",
    "    exp,curr  = task.generate_experiment(**args['exp'])\n",
    "    data = sem.run_exp(exp)\n",
    "    data['exp']=exp\n",
    "    dataL.append(data)\n",
    "  return dataL\n",
    "\n",
    "def run_batch_exp_curr(ns,args,currL=['blocked','interleaved']):\n",
    "  \"\"\" loop over task conditions, return accuracy\n",
    "  return shape [task_condition,seed,trial]\n",
    "  \"\"\"\n",
    "  L = []\n",
    "  for curr in currL:\n",
    "    args['exp']['condition'] = curr\n",
    "    dataL = run_batch_exp(ns,args)\n",
    "    acc = np.array([get_acc(data) for data in dataL]).mean(1) # mean over layer\n",
    "    L.append(acc)\n",
    "  return np.array(L)"
   ]
  },
  {
   "cell_type": "code",
   "execution_count": 6,
   "metadata": {
    "scrolled": true
   },
   "outputs": [],
   "source": [
    "### RUN EXP\n",
    "ns = 25\n",
    "schargs = {\n",
    "  'concentration':1.4, # 1.9\n",
    "  'stickiness_wi':5000, # 10\n",
    "  'stickiness_bt':100, # 10\n",
    "  'sparsity':0.08 # 0.1\n",
    "}\n",
    "\n",
    "expargs = {\n",
    "  'condition':None,\n",
    "  'n_train':160,\n",
    "  'n_test':40\n",
    "}\n",
    "args = {\n",
    "  'sch':schargs,\n",
    "  'exp':expargs\n",
    "  }\n",
    "\n",
    "ns = 20\n",
    "accB,accI = run_batch_exp_curr(ns,args,currL=['blocked','interleaved']).mean(1) # over seeds"
   ]
  },
  {
   "cell_type": "code",
   "execution_count": 7,
   "metadata": {},
   "outputs": [
    {
     "data": {
      "text/plain": [
       "'alfa1.4000-betawi5000.0000-betabt100.0000-lmda0.0800'"
      ]
     },
     "execution_count": 7,
     "metadata": {},
     "output_type": "execute_result"
    }
   ],
   "source": [
    "paramstr = \"alfa%.4f-betawi%.4f-betabt%.4f-lmda%.4f\"%tuple(schargs.values())\n",
    "paramstr"
   ]
  },
  {
   "cell_type": "markdown",
   "metadata": {},
   "source": [
    "## accuracy plots"
   ]
  },
  {
   "cell_type": "code",
   "execution_count": 8,
   "metadata": {},
   "outputs": [
    {
     "data": {
      "image/png": "[encoded data removed]",
      "text/plain": [
       "<Figure size 720x288 with 1 Axes>"
      ]
     },
     "metadata": {
      "needs_background": "light"
     },
     "output_type": "display_data"
    }
   ],
   "source": [
    "plt.figure(figsize=(10,4))\n",
    "## plot model\n",
    "plt.plot(accB,c='b',lw=3)\n",
    "plt.plot(accI,c='r',lw=3)\n",
    "# human\n",
    "plt.plot(range(len(hB)),hB,c='darkblue',lw=0.5)\n",
    "plt.plot(range(len(hI)),hI,c='darkred',lw=0.5)\n",
    "# gridlines\n",
    "plt.axhline(0.5,c='k',lw=0.5,ls='--')\n",
    "for v in [40,80,160]:\n",
    "  plt.axvline(v,c='k',lw=0.5,ls='--')\n",
    "  \n",
    "## \n",
    "plt.title(paramstr)\n",
    "plt.ylim(0.05,1.05)\n",
    "plt.savefig('figures/scratch/acc-BI-%i'%tstamp)"
   ]
  },
  {
   "cell_type": "code",
   "execution_count": 9,
   "metadata": {},
   "outputs": [],
   "source": [
    "accE,accM,accL = run_batch_exp_curr(ns,args,currL=['early','middle','late']).mean(1)"
   ]
  },
  {
   "cell_type": "code",
   "execution_count": 10,
   "metadata": {},
   "outputs": [
    {
     "data": {
      "image/png": "[encoded data removed]",
      "text/plain": [
       "<Figure size 720x288 with 1 Axes>"
      ]
     },
     "metadata": {
      "needs_background": "light"
     },
     "output_type": "display_data"
    }
   ],
   "source": [
    "plt.figure(figsize=(10,4))\n",
    "\n",
    "## plot model\n",
    "plt.plot(accE,c='g',lw=3,label='early')\n",
    "plt.plot(accM,c='purple',lw=3,label='middle')\n",
    "plt.plot(accL,c='crimson',lw=3,label='late')\n",
    "plt.ylim(0.05,1.05)\n",
    "plt.legend(loc=0)\n",
    "\n",
    "# gridlines\n",
    "plt.axhline(0.5,c='k',lw=0.5,ls='--')\n",
    "for v in [40,80,160]:\n",
    "  plt.axvline(v,c='k',lw=0.5,ls='--')\n",
    "plt.title(paramstr)\n",
    "\n",
    "plt.savefig('figures/scratch/acc-EML-%i'%tstamp)"
   ]
  },
  {
   "cell_type": "markdown",
   "metadata": {},
   "source": [
    "# further analyses\n"
   ]
  },
  {
   "cell_type": "code",
   "execution_count": 11,
   "metadata": {},
   "outputs": [
    {
     "data": {
      "text/plain": [
       "3"
      ]
     },
     "execution_count": 11,
     "metadata": {},
     "output_type": "execute_result"
    }
   ],
   "source": [
    "args['exp']['condition']='blocked'\n",
    "ns = 3\n",
    "dataL = run_batch_exp(ns,args)\n",
    "len(dataL)"
   ]
  },
  {
   "cell_type": "code",
   "execution_count": 12,
   "metadata": {},
   "outputs": [
    {
     "name": "stdout",
     "output_type": "stream",
     "text": [
      "dict_keys(['zt', 'xth', 'priors', 'likesL2', 'postL2', 'exp'])\n"
     ]
    },
    {
     "data": {
      "text/plain": [
       "array([[ 0.,  0.,  0.,  0., -1.],\n",
       "       [ 0.,  0.,  0.,  0., -1.],\n",
       "       [ 0.,  0.,  0.,  0., -1.],\n",
       "       [ 0.,  0.,  0.,  0., -1.],\n",
       "       [ 0.,  0.,  0.,  0., -1.],\n",
       "       [ 0.,  0.,  0.,  0., -1.],\n",
       "       [ 0.,  0.,  0.,  0., -1.],\n",
       "       [ 0.,  0.,  0.,  0., -1.],\n",
       "       [ 0.,  0.,  0.,  0., -1.],\n",
       "       [ 0.,  0.,  0.,  0., -1.],\n",
       "       [ 0.,  0.,  0.,  0., -1.],\n",
       "       [ 0.,  0.,  0.,  0., -1.],\n",
       "       [ 0.,  0.,  0.,  0., -1.],\n",
       "       [ 0.,  0.,  0.,  0., -1.],\n",
       "       [ 0.,  0.,  0.,  0., -1.],\n",
       "       [ 0.,  0.,  0.,  0., -1.],\n",
       "       [ 0.,  0.,  0.,  0., -1.],\n",
       "       [ 0.,  0.,  0.,  0., -1.],\n",
       "       [ 0.,  0.,  0.,  0., -1.],\n",
       "       [ 0.,  0.,  0.,  0., -1.],\n",
       "       [ 0.,  0.,  0.,  0., -1.],\n",
       "       [ 0.,  0.,  0.,  0., -1.],\n",
       "       [ 0.,  0.,  0.,  0., -1.],\n",
       "       [ 0.,  0.,  0.,  0., -1.],\n",
       "       [ 0.,  0.,  0.,  0., -1.],\n",
       "       [ 0.,  0.,  0.,  0., -1.],\n",
       "       [ 0.,  0.,  0.,  0., -1.],\n",
       "       [ 0.,  0.,  0.,  0., -1.],\n",
       "       [ 0.,  0.,  0.,  0., -1.],\n",
       "       [ 0.,  0.,  0.,  0., -1.],\n",
       "       [ 0.,  0.,  0.,  0., -1.],\n",
       "       [ 0.,  0.,  0.,  0., -1.],\n",
       "       [ 0.,  0.,  0.,  0., -1.],\n",
       "       [ 0.,  0.,  0.,  0., -1.],\n",
       "       [ 0.,  0.,  0.,  0., -1.],\n",
       "       [ 0.,  0.,  0.,  0., -1.],\n",
       "       [ 0.,  0.,  0.,  0., -1.],\n",
       "       [ 0.,  0.,  0.,  0., -1.],\n",
       "       [ 0.,  0.,  0.,  0., -1.],\n",
       "       [ 0.,  0.,  0.,  0., -1.],\n",
       "       [ 1.,  1.,  1.,  1., -1.],\n",
       "       [ 1.,  1.,  1.,  1., -1.],\n",
       "       [ 1.,  1.,  1.,  1., -1.],\n",
       "       [ 1.,  1.,  1.,  1., -1.],\n",
       "       [ 1.,  1.,  1.,  1., -1.],\n",
       "       [ 1.,  1.,  1.,  1., -1.],\n",
       "       [ 1.,  1.,  1.,  1., -1.],\n",
       "       [ 1.,  1.,  1.,  1., -1.],\n",
       "       [ 1.,  1.,  1.,  1., -1.],\n",
       "       [ 1.,  1.,  1.,  1., -1.],\n",
       "       [ 1.,  1.,  1.,  1., -1.],\n",
       "       [ 1.,  1.,  1.,  1., -1.],\n",
       "       [ 1.,  1.,  1.,  1., -1.],\n",
       "       [ 1.,  1.,  1.,  1., -1.],\n",
       "       [ 1.,  1.,  1.,  1., -1.],\n",
       "       [ 1.,  1.,  1.,  1., -1.],\n",
       "       [ 1.,  1.,  1.,  1., -1.],\n",
       "       [ 1.,  1.,  1.,  1., -1.],\n",
       "       [ 1.,  1.,  1.,  1., -1.],\n",
       "       [ 1.,  1.,  1.,  1., -1.],\n",
       "       [ 1.,  1.,  1.,  1., -1.],\n",
       "       [ 1.,  1.,  1.,  1., -1.],\n",
       "       [ 1.,  1.,  1.,  1., -1.],\n",
       "       [ 1.,  1.,  1.,  1., -1.],\n",
       "       [ 1.,  1.,  1.,  1., -1.],\n",
       "       [ 1.,  1.,  1.,  1., -1.],\n",
       "       [ 1.,  1.,  1.,  1., -1.],\n",
       "       [ 1.,  1.,  1.,  1., -1.],\n",
       "       [ 1.,  1.,  1.,  1., -1.],\n",
       "       [ 1.,  1.,  1.,  1., -1.],\n",
       "       [ 1.,  1.,  1.,  1., -1.],\n",
       "       [ 1.,  1.,  1.,  1., -1.],\n",
       "       [ 1.,  1.,  1.,  1., -1.],\n",
       "       [ 1.,  1.,  1.,  1., -1.],\n",
       "       [ 1.,  1.,  1.,  1., -1.],\n",
       "       [ 1.,  1.,  1.,  1., -1.],\n",
       "       [ 1.,  1.,  1.,  1., -1.],\n",
       "       [ 1.,  1.,  1.,  1., -1.],\n",
       "       [ 1.,  1.,  1.,  1., -1.],\n",
       "       [ 1.,  1.,  1.,  1., -1.],\n",
       "       [ 0.,  0.,  0.,  0., -1.],\n",
       "       [ 0.,  0.,  0.,  0., -1.],\n",
       "       [ 0.,  0.,  0.,  0., -1.],\n",
       "       [ 0.,  0.,  0.,  0., -1.],\n",
       "       [ 0.,  0.,  0.,  0., -1.],\n",
       "       [ 0.,  0.,  0.,  0., -1.],\n",
       "       [ 0.,  0.,  0.,  0., -1.],\n",
       "       [ 0.,  0.,  0.,  0., -1.],\n",
       "       [ 0.,  0.,  0.,  0., -1.],\n",
       "       [ 0.,  0.,  0.,  0., -1.],\n",
       "       [ 0.,  0.,  0.,  0., -1.],\n",
       "       [ 0.,  0.,  0.,  0., -1.],\n",
       "       [ 0.,  0.,  0.,  0., -1.],\n",
       "       [ 0.,  0.,  0.,  0., -1.],\n",
       "       [ 0.,  0.,  0.,  0., -1.],\n",
       "       [ 0.,  0.,  0.,  0., -1.],\n",
       "       [ 0.,  0.,  0.,  0., -1.],\n",
       "       [ 0.,  0.,  0.,  0., -1.],\n",
       "       [ 0.,  0.,  0.,  0., -1.],\n",
       "       [ 0.,  0.,  0.,  0., -1.],\n",
       "       [ 0.,  0.,  0.,  0., -1.],\n",
       "       [ 0.,  0.,  0.,  0., -1.],\n",
       "       [ 0.,  0.,  0.,  0., -1.],\n",
       "       [ 0.,  0.,  0.,  0., -1.],\n",
       "       [ 0.,  0.,  0.,  0., -1.],\n",
       "       [ 0.,  0.,  0.,  0., -1.],\n",
       "       [ 0.,  0.,  0.,  0., -1.],\n",
       "       [ 0.,  0.,  0.,  0., -1.],\n",
       "       [ 0.,  0.,  0.,  0., -1.],\n",
       "       [ 0.,  0.,  0.,  0., -1.],\n",
       "       [ 0.,  0.,  0.,  0., -1.],\n",
       "       [ 0.,  0.,  0.,  0., -1.],\n",
       "       [ 0.,  0.,  0.,  0., -1.],\n",
       "       [ 0.,  0.,  0.,  0., -1.],\n",
       "       [ 0.,  0.,  0.,  0., -1.],\n",
       "       [ 0.,  0.,  0.,  0., -1.],\n",
       "       [ 0.,  0.,  0.,  0., -1.],\n",
       "       [ 0.,  0.,  0.,  0., -1.],\n",
       "       [ 0.,  0.,  0.,  0., -1.],\n",
       "       [ 0.,  0.,  0.,  0., -1.],\n",
       "       [ 1.,  1.,  1.,  1., -1.],\n",
       "       [ 1.,  1.,  1.,  1., -1.],\n",
       "       [ 1.,  1.,  1.,  1., -1.],\n",
       "       [ 1.,  1.,  1.,  1., -1.],\n",
       "       [ 1.,  1.,  1.,  1., -1.],\n",
       "       [ 1.,  1.,  1.,  1., -1.],\n",
       "       [ 1.,  1.,  1.,  1., -1.],\n",
       "       [ 1.,  1.,  1.,  1., -1.],\n",
       "       [ 1.,  1.,  1.,  1., -1.],\n",
       "       [ 1.,  1.,  1.,  1., -1.],\n",
       "       [ 1.,  1.,  1.,  1., -1.],\n",
       "       [ 1.,  1.,  1.,  1., -1.],\n",
       "       [ 1.,  1.,  1.,  1., -1.],\n",
       "       [ 1.,  1.,  1.,  1., -1.],\n",
       "       [ 1.,  1.,  1.,  1., -1.],\n",
       "       [ 1.,  1.,  1.,  1., -1.],\n",
       "       [ 1.,  1.,  1.,  1., -1.],\n",
       "       [ 1.,  1.,  1.,  1., -1.],\n",
       "       [ 1.,  1.,  1.,  1., -1.],\n",
       "       [ 1.,  1.,  1.,  1., -1.],\n",
       "       [ 1.,  1.,  1.,  1., -1.],\n",
       "       [ 1.,  1.,  1.,  1., -1.],\n",
       "       [ 1.,  1.,  1.,  1., -1.],\n",
       "       [ 1.,  1.,  1.,  1., -1.],\n",
       "       [ 1.,  1.,  1.,  1., -1.],\n",
       "       [ 1.,  1.,  1.,  1., -1.],\n",
       "       [ 1.,  1.,  1.,  1., -1.],\n",
       "       [ 1.,  1.,  1.,  1., -1.],\n",
       "       [ 1.,  1.,  1.,  1., -1.],\n",
       "       [ 1.,  1.,  1.,  1., -1.],\n",
       "       [ 1.,  1.,  1.,  1., -1.],\n",
       "       [ 1.,  1.,  1.,  1., -1.],\n",
       "       [ 1.,  1.,  1.,  1., -1.],\n",
       "       [ 1.,  1.,  1.,  1., -1.],\n",
       "       [ 1.,  1.,  1.,  1., -1.],\n",
       "       [ 1.,  1.,  1.,  1., -1.],\n",
       "       [ 1.,  1.,  1.,  1., -1.],\n",
       "       [ 1.,  1.,  1.,  1., -1.],\n",
       "       [ 1.,  1.,  1.,  1., -1.],\n",
       "       [ 1.,  1.,  1.,  1., -1.],\n",
       "       [ 0.,  0.,  0.,  0., -1.],\n",
       "       [ 0.,  0.,  0.,  0., -1.],\n",
       "       [ 0.,  0.,  0.,  0., -1.],\n",
       "       [ 1.,  1.,  1.,  1., -1.],\n",
       "       [ 1.,  1.,  1.,  1., -1.],\n",
       "       [ 1.,  1.,  1.,  1., -1.],\n",
       "       [ 0.,  0.,  0.,  0., -1.],\n",
       "       [ 0.,  0.,  0.,  0., -1.],\n",
       "       [ 0.,  0.,  0.,  0., -1.],\n",
       "       [ 0.,  0.,  0.,  0., -1.],\n",
       "       [ 1.,  1.,  1.,  1., -1.],\n",
       "       [ 0.,  0.,  0.,  0., -1.],\n",
       "       [ 1.,  1.,  1.,  1., -1.],\n",
       "       [ 1.,  1.,  1.,  1., -1.],\n",
       "       [ 1.,  1.,  1.,  1., -1.],\n",
       "       [ 0.,  0.,  0.,  0., -1.],\n",
       "       [ 1.,  1.,  1.,  1., -1.],\n",
       "       [ 1.,  1.,  1.,  1., -1.],\n",
       "       [ 1.,  1.,  1.,  1., -1.],\n",
       "       [ 0.,  0.,  0.,  0., -1.],\n",
       "       [ 0.,  0.,  0.,  0., -1.],\n",
       "       [ 1.,  1.,  1.,  1., -1.],\n",
       "       [ 0.,  0.,  0.,  0., -1.],\n",
       "       [ 0.,  0.,  0.,  0., -1.],\n",
       "       [ 0.,  0.,  0.,  0., -1.],\n",
       "       [ 0.,  0.,  0.,  0., -1.],\n",
       "       [ 0.,  0.,  0.,  0., -1.],\n",
       "       [ 1.,  1.,  1.,  1., -1.],\n",
       "       [ 1.,  1.,  1.,  1., -1.],\n",
       "       [ 1.,  1.,  1.,  1., -1.],\n",
       "       [ 0.,  0.,  0.,  0., -1.],\n",
       "       [ 1.,  1.,  1.,  1., -1.],\n",
       "       [ 1.,  1.,  1.,  1., -1.],\n",
       "       [ 1.,  1.,  1.,  1., -1.],\n",
       "       [ 0.,  0.,  0.,  0., -1.],\n",
       "       [ 0.,  0.,  0.,  0., -1.],\n",
       "       [ 0.,  0.,  0.,  0., -1.],\n",
       "       [ 1.,  1.,  1.,  1., -1.],\n",
       "       [ 0.,  0.,  0.,  0., -1.],\n",
       "       [ 1.,  1.,  1.,  1., -1.]])"
      ]
     },
     "execution_count": 12,
     "metadata": {},
     "output_type": "execute_result"
    }
   ],
   "source": [
    "seed_data = dataL[2]\n",
    "print(seed_data.keys())\n",
    "sch_inf = seed_data['zt'] # schema inference at each timestep\n",
    "sch_inf\n"
   ]
  },
  {
   "cell_type": "code",
   "execution_count": 13,
   "metadata": {},
   "outputs": [
    {
     "data": {
      "text/plain": [
       "array([[0, 1, 3, 5, 7],\n",
       "       [0, 1, 4, 6, 8],\n",
       "       [0, 1, 3, 5, 7],\n",
       "       [0, 1, 3, 5, 7],\n",
       "       [0, 1, 3, 5, 7],\n",
       "       [0, 1, 3, 5, 7],\n",
       "       [0, 1, 4, 6, 8],\n",
       "       [0, 1, 4, 6, 8],\n",
       "       [0, 1, 4, 6, 8],\n",
       "       [0, 1, 3, 5, 7],\n",
       "       [0, 1, 3, 5, 7],\n",
       "       [0, 1, 3, 5, 7],\n",
       "       [0, 1, 3, 5, 7],\n",
       "       [0, 1, 3, 5, 7],\n",
       "       [0, 1, 3, 5, 7],\n",
       "       [0, 1, 4, 6, 8],\n",
       "       [0, 1, 4, 6, 8],\n",
       "       [0, 1, 3, 5, 7],\n",
       "       [0, 1, 3, 5, 7],\n",
       "       [0, 1, 3, 5, 7],\n",
       "       [0, 1, 4, 6, 8],\n",
       "       [0, 1, 4, 6, 8],\n",
       "       [0, 1, 4, 6, 8],\n",
       "       [0, 1, 4, 6, 8],\n",
       "       [0, 1, 3, 5, 7],\n",
       "       [0, 1, 3, 5, 7],\n",
       "       [0, 1, 4, 6, 8],\n",
       "       [0, 1, 3, 5, 7],\n",
       "       [0, 1, 4, 6, 8],\n",
       "       [0, 1, 3, 5, 7],\n",
       "       [0, 1, 3, 5, 7],\n",
       "       [0, 1, 4, 6, 8],\n",
       "       [0, 1, 3, 5, 7],\n",
       "       [0, 1, 3, 5, 7],\n",
       "       [0, 1, 3, 5, 7],\n",
       "       [0, 1, 4, 6, 8],\n",
       "       [0, 1, 4, 6, 8],\n",
       "       [0, 1, 3, 5, 7],\n",
       "       [0, 1, 4, 6, 8],\n",
       "       [0, 1, 3, 5, 7],\n",
       "       [0, 2, 3, 6, 7],\n",
       "       [0, 2, 3, 6, 7],\n",
       "       [0, 2, 4, 5, 8],\n",
       "       [0, 2, 4, 5, 8],\n",
       "       [0, 2, 4, 5, 8],\n",
       "       [0, 2, 3, 6, 7],\n",
       "       [0, 2, 3, 6, 7],\n",
       "       [0, 2, 3, 6, 7],\n",
       "       [0, 2, 4, 5, 8],\n",
       "       [0, 2, 4, 5, 8],\n",
       "       [0, 2, 3, 6, 7],\n",
       "       [0, 2, 4, 5, 8],\n",
       "       [0, 2, 4, 5, 8],\n",
       "       [0, 2, 3, 6, 7],\n",
       "       [0, 2, 4, 5, 8],\n",
       "       [0, 2, 4, 5, 8],\n",
       "       [0, 2, 3, 6, 7],\n",
       "       [0, 2, 4, 5, 8],\n",
       "       [0, 2, 3, 6, 7],\n",
       "       [0, 2, 4, 5, 8],\n",
       "       [0, 2, 4, 5, 8],\n",
       "       [0, 2, 3, 6, 7],\n",
       "       [0, 2, 4, 5, 8],\n",
       "       [0, 2, 4, 5, 8],\n",
       "       [0, 2, 4, 5, 8],\n",
       "       [0, 2, 4, 5, 8],\n",
       "       [0, 2, 3, 6, 7],\n",
       "       [0, 2, 3, 6, 7],\n",
       "       [0, 2, 4, 5, 8],\n",
       "       [0, 2, 4, 5, 8],\n",
       "       [0, 2, 4, 5, 8],\n",
       "       [0, 2, 3, 6, 7],\n",
       "       [0, 2, 4, 5, 8],\n",
       "       [0, 2, 4, 5, 8],\n",
       "       [0, 2, 3, 6, 7],\n",
       "       [0, 2, 4, 5, 8],\n",
       "       [0, 2, 4, 5, 8],\n",
       "       [0, 2, 3, 6, 7],\n",
       "       [0, 2, 3, 6, 7],\n",
       "       [0, 2, 4, 5, 8],\n",
       "       [0, 1, 3, 5, 7],\n",
       "       [0, 1, 4, 6, 8],\n",
       "       [0, 1, 4, 6, 8],\n",
       "       [0, 1, 3, 5, 7],\n",
       "       [0, 1, 3, 5, 7],\n",
       "       [0, 1, 3, 5, 7],\n",
       "       [0, 1, 4, 6, 8],\n",
       "       [0, 1, 3, 5, 7],\n",
       "       [0, 1, 3, 5, 7],\n",
       "       [0, 1, 4, 6, 8],\n",
       "       [0, 1, 3, 5, 7],\n",
       "       [0, 1, 3, 5, 7],\n",
       "       [0, 1, 4, 6, 8],\n",
       "       [0, 1, 4, 6, 8],\n",
       "       [0, 1, 4, 6, 8],\n",
       "       [0, 1, 4, 6, 8],\n",
       "       [0, 1, 4, 6, 8],\n",
       "       [0, 1, 3, 5, 7],\n",
       "       [0, 1, 4, 6, 8],\n",
       "       [0, 1, 4, 6, 8],\n",
       "       [0, 1, 3, 5, 7],\n",
       "       [0, 1, 3, 5, 7],\n",
       "       [0, 1, 3, 5, 7],\n",
       "       [0, 1, 3, 5, 7],\n",
       "       [0, 1, 3, 5, 7],\n",
       "       [0, 1, 4, 6, 8],\n",
       "       [0, 1, 3, 5, 7],\n",
       "       [0, 1, 3, 5, 7],\n",
       "       [0, 1, 4, 6, 8],\n",
       "       [0, 1, 4, 6, 8],\n",
       "       [0, 1, 3, 5, 7],\n",
       "       [0, 1, 4, 6, 8],\n",
       "       [0, 1, 3, 5, 7],\n",
       "       [0, 1, 4, 6, 8],\n",
       "       [0, 1, 4, 6, 8],\n",
       "       [0, 1, 3, 5, 7],\n",
       "       [0, 1, 4, 6, 8],\n",
       "       [0, 1, 3, 5, 7],\n",
       "       [0, 1, 4, 6, 8],\n",
       "       [0, 1, 3, 5, 7],\n",
       "       [0, 2, 4, 5, 8],\n",
       "       [0, 2, 3, 6, 7],\n",
       "       [0, 2, 3, 6, 7],\n",
       "       [0, 2, 3, 6, 7],\n",
       "       [0, 2, 3, 6, 7],\n",
       "       [0, 2, 3, 6, 7],\n",
       "       [0, 2, 3, 6, 7],\n",
       "       [0, 2, 3, 6, 7],\n",
       "       [0, 2, 3, 6, 7],\n",
       "       [0, 2, 4, 5, 8],\n",
       "       [0, 2, 3, 6, 7],\n",
       "       [0, 2, 4, 5, 8],\n",
       "       [0, 2, 3, 6, 7],\n",
       "       [0, 2, 4, 5, 8],\n",
       "       [0, 2, 3, 6, 7],\n",
       "       [0, 2, 4, 5, 8],\n",
       "       [0, 2, 4, 5, 8],\n",
       "       [0, 2, 3, 6, 7],\n",
       "       [0, 2, 3, 6, 7],\n",
       "       [0, 2, 4, 5, 8],\n",
       "       [0, 2, 3, 6, 7],\n",
       "       [0, 2, 3, 6, 7],\n",
       "       [0, 2, 3, 6, 7],\n",
       "       [0, 2, 4, 5, 8],\n",
       "       [0, 2, 3, 6, 7],\n",
       "       [0, 2, 3, 6, 7],\n",
       "       [0, 2, 4, 5, 8],\n",
       "       [0, 2, 4, 5, 8],\n",
       "       [0, 2, 3, 6, 7],\n",
       "       [0, 2, 4, 5, 8],\n",
       "       [0, 2, 3, 6, 7],\n",
       "       [0, 2, 3, 6, 7],\n",
       "       [0, 2, 3, 6, 7],\n",
       "       [0, 2, 4, 5, 8],\n",
       "       [0, 2, 3, 6, 7],\n",
       "       [0, 2, 4, 5, 8],\n",
       "       [0, 2, 4, 5, 8],\n",
       "       [0, 2, 4, 5, 8],\n",
       "       [0, 2, 3, 6, 7],\n",
       "       [0, 2, 3, 6, 7],\n",
       "       [0, 1, 3, 5, 7],\n",
       "       [0, 1, 4, 6, 8],\n",
       "       [0, 1, 3, 5, 7],\n",
       "       [0, 2, 4, 5, 8],\n",
       "       [0, 2, 4, 5, 8],\n",
       "       [0, 2, 3, 6, 7],\n",
       "       [0, 1, 4, 6, 8],\n",
       "       [0, 1, 3, 5, 7],\n",
       "       [0, 1, 4, 6, 8],\n",
       "       [0, 1, 3, 5, 7],\n",
       "       [0, 2, 3, 6, 7],\n",
       "       [0, 1, 3, 5, 7],\n",
       "       [0, 2, 3, 6, 7],\n",
       "       [0, 2, 3, 6, 7],\n",
       "       [0, 2, 4, 5, 8],\n",
       "       [0, 1, 3, 5, 7],\n",
       "       [0, 2, 4, 5, 8],\n",
       "       [0, 2, 3, 6, 7],\n",
       "       [0, 2, 4, 5, 8],\n",
       "       [0, 1, 4, 6, 8],\n",
       "       [0, 1, 4, 6, 8],\n",
       "       [0, 2, 4, 5, 8],\n",
       "       [0, 1, 4, 6, 8],\n",
       "       [0, 1, 4, 6, 8],\n",
       "       [0, 1, 4, 6, 8],\n",
       "       [0, 1, 4, 6, 8],\n",
       "       [0, 1, 4, 6, 8],\n",
       "       [0, 2, 4, 5, 8],\n",
       "       [0, 2, 4, 5, 8],\n",
       "       [0, 2, 4, 5, 8],\n",
       "       [0, 1, 4, 6, 8],\n",
       "       [0, 2, 4, 5, 8],\n",
       "       [0, 2, 3, 6, 7],\n",
       "       [0, 2, 4, 5, 8],\n",
       "       [0, 1, 4, 6, 8],\n",
       "       [0, 1, 3, 5, 7],\n",
       "       [0, 1, 3, 5, 7],\n",
       "       [0, 2, 4, 5, 8],\n",
       "       [0, 1, 3, 5, 7],\n",
       "       [0, 2, 3, 6, 7]])"
      ]
     },
     "execution_count": 13,
     "metadata": {},
     "output_type": "execute_result"
    }
   ],
   "source": [
    "seed_data['exp']"
   ]
  },
  {
   "cell_type": "code",
   "execution_count": 14,
   "metadata": {},
   "outputs": [
    {
     "ename": "AssertionError",
     "evalue": "",
     "output_type": "error",
     "traceback": [
      "\u001b[0;31m---------------------------------------------------------------------------\u001b[0m",
      "\u001b[0;31mAssertionError\u001b[0m                            Traceback (most recent call last)",
      "\u001b[0;32m<ipython-input-14-a871fdc9ebee>\u001b[0m in \u001b[0;36m<module>\u001b[0;34m\u001b[0m\n\u001b[0;32m----> 1\u001b[0;31m \u001b[0;32massert\u001b[0m \u001b[0;32mFalse\u001b[0m\u001b[0;34m\u001b[0m\u001b[0;34m\u001b[0m\u001b[0m\n\u001b[0m",
      "\u001b[0;31mAssertionError\u001b[0m: "
     ]
    }
   ],
   "source": [
    "assert False"
   ]
  },
  {
   "cell_type": "markdown",
   "metadata": {},
   "source": [
    "### accuracy for prediction following E2 and E3"
   ]
  },
  {
   "cell_type": "code",
   "execution_count": null,
   "metadata": {},
   "outputs": [],
   "source": [
    "acc = np.array([get_acc(data) for data in dataL]) # sub,layer,trial\n",
    "f,ax = plt.subplots(1,2,figsize=(15,5),)\n",
    "for i in range(2):\n",
    "  M = acc[:,i].mean(0)\n",
    "  ax[i].plot(M)\n",
    "  ax[i].set_ylim(0.2,1.05)\n",
    " "
   ]
  },
  {
   "cell_type": "markdown",
   "metadata": {},
   "source": [
    "### inspect predictions\n"
   ]
  },
  {
   "cell_type": "code",
   "execution_count": null,
   "metadata": {},
   "outputs": [],
   "source": [
    "xth=data['xth']\n",
    "l=2\n",
    "ns=(5,6)\n",
    "ysm = softmax(xth[:,l,ns],1)\n",
    "yh = xth[:,l,ns]\n",
    "ysm = softmax(yh,-1)\n",
    "for y,ys,e in zip(yh,ysm,exp):\n",
    "  print(y,ys,e[:l+1])\n",
    "exp.shape"
   ]
  },
  {
   "cell_type": "code",
   "execution_count": null,
   "metadata": {},
   "outputs": [],
   "source": [
    "### schema usage\n",
    "f,ax = plt.subplots(1,2,figsize=(16,5))\n",
    "zt = data['zt'][:,:-1].flatten()\n",
    "ax[0].hist(zt)\n",
    "ax[1].plot(data['zt'][:,:-1].mean(1))"
   ]
  },
  {
   "cell_type": "code",
   "execution_count": null,
   "metadata": {
    "scrolled": true
   },
   "outputs": [],
   "source": [
    "### schema usage\n",
    "[np.unique(d['zt']) for d in dataL] "
   ]
  },
  {
   "cell_type": "code",
   "execution_count": null,
   "metadata": {},
   "outputs": [],
   "source": [
    "for p in data['priors']:\n",
    "  print(p)"
   ]
  },
  {
   "cell_type": "code",
   "execution_count": null,
   "metadata": {},
   "outputs": [],
   "source": [
    "for like in data['likesL2']:\n",
    "  print(like)"
   ]
  },
  {
   "cell_type": "code",
   "execution_count": null,
   "metadata": {
    "scrolled": true
   },
   "outputs": [],
   "source": [
    "for i,po in enumerate(data['postL2']):\n",
    "  print(i,po)"
   ]
  }
 ],
 "metadata": {
  "kernelspec": {
   "display_name": "Python 3",
   "language": "python",
   "name": "python3"
  },
  "language_info": {
   "codemirror_mode": {
    "name": "ipython",
    "version": 3
   },
   "file_extension": ".py",
   "mimetype": "text/x-python",
   "name": "python",
   "nbconvert_exporter": "python",
   "pygments_lexer": "ipython3",
   "version": "3.7.3"
  }
 },
 "nbformat": 4,
 "nbformat_minor": 4
}
