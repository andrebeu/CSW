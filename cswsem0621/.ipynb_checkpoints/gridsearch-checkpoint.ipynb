{
 "cells": [
  {
   "cell_type": "code",
   "execution_count": 1,
   "metadata": {},
   "outputs": [],
   "source": [
    "from matplotlib import pyplot as plt\n",
    "from scipy.special import softmax\n",
    "from itertools import product\n",
    "import numpy as np\n",
    "from utils import *\n",
    "import time\n",
    "import seaborn as sns\n",
    "sns.set_context('talk')\n",
    "\n",
    "%load_ext autoreload\n",
    "%reload_ext autoreload\n",
    "%autoreload 2\n",
    "%matplotlib inline"
   ]
  },
  {
   "cell_type": "code",
   "execution_count": 2,
   "metadata": {},
   "outputs": [],
   "source": [
    "## import human data for fitting\n",
    "import pandas as pd\n",
    "hdf = pd.read_csv('../human_data.csv')\n",
    "hB,hI = hdf.loc[:,('blocked mean','interleaved mean')].values.T"
   ]
  },
  {
   "cell_type": "code",
   "execution_count": 3,
   "metadata": {
    "scrolled": true
   },
   "outputs": [],
   "source": [
    "### RUN EXP\n",
    "def run_batch_exp(ns,args):\n",
    "  dataL = []\n",
    "  for i in range(ns):\n",
    "    task = Task()\n",
    "    sem = SEM(args['sch'])\n",
    "    exp,curr  = task.generate_experiment(**args['exp'])\n",
    "    data = sem.run_exp(exp)\n",
    "    data['exp']=exp\n",
    "    dataL.append(data)\n",
    "  return dataL"
   ]
  },
  {
   "cell_type": "code",
   "execution_count": 4,
   "metadata": {},
   "outputs": [],
   "source": [
    "def get_sm(xth):\n",
    "  \"\"\" \n",
    "  given x_t_hat from subject\n",
    "  [trial,layer,node]\n",
    "  get 2afc normalized softmax for layer 2/3\n",
    "  return: [trial,layer2/3,node56/78]\n",
    "  \"\"\"\n",
    "  nodes = {2:(5,6),3:(7,8)} \n",
    "  L = [] # layer 2 and 3\n",
    "  for l,ns in nodes.items():\n",
    "    y = xth[:,l,ns]\n",
    "#     y /= y.sum(1,keepdims=True)\n",
    "#     print(y/y.sum(1,keepdims=True))\n",
    "#     y = softmax(xth[:,l,ns],-1)\n",
    "    L.append(y)\n",
    "  return np.array(L)\n",
    "\n",
    "def get_acc(data):\n",
    "  \"\"\" \n",
    "  returns 2afc softmax of \n",
    "  layer 2/3 transitions\n",
    "  \"\"\"\n",
    "  ysm = get_sm(data['xth'])\n",
    "  L = []\n",
    "  for i in range(2):\n",
    "    ysml = ysm[i]\n",
    "    yt = data['exp'][:,i+3] \n",
    "    pr_yt = ysml[range(len(ysml)),yt - (5+2*i)] # \n",
    "    L.append(pr_yt)\n",
    "  return np.array(L)"
   ]
  },
  {
   "cell_type": "code",
   "execution_count": 5,
   "metadata": {},
   "outputs": [
    {
     "name": "stdout",
     "output_type": "stream",
     "text": [
      "280\n",
      "[0.85 0.9  0.95 1.   1.05 1.1  1.15] [0.001 0.051 0.101 0.151 0.201] [0.01  0.035 0.06  0.085 0.11  0.135 0.16  0.185]\n"
     ]
    }
   ],
   "source": [
    "alfaL = np.arange(0.85,1.151,0.05)\n",
    "betaL = np.arange(0.001,0.251,0.05)\n",
    "lmdaL = np.arange(0.01,0.2,0.025)\n",
    "\n",
    "param_setsize = len(alfaL)*len(betaL)*len(lmdaL)\n",
    "print(param_setsize)\n",
    "print(alfaL,betaL,lmdaL)\n",
    "\n",
    "expargs = {\n",
    "  'condition':'blocked',\n",
    "  'n_train':160,\n",
    "  'n_test':40\n",
    "}\n",
    "ns = 5"
   ]
  },
  {
   "cell_type": "code",
   "execution_count": null,
   "metadata": {
    "scrolled": true
   },
   "outputs": [
    {
     "name": "stdout",
     "output_type": "stream",
     "text": [
      "0.0 0.85 0.001 0.01\n",
      "0.0035714285714285713 0.85 0.001 0.035\n",
      "0.007142857142857143 0.85 0.001 0.060000000000000005\n",
      "0.010714285714285714 0.85 0.001 0.085\n",
      "0.014285714285714285 0.85 0.001 0.11\n",
      "0.017857142857142856 0.85 0.001 0.135\n",
      "0.02142857142857143 0.85 0.001 0.16000000000000003\n",
      "0.025 0.85 0.001 0.18500000000000003\n",
      "0.02857142857142857 0.85 0.051000000000000004 0.01\n",
      "0.03214285714285714 0.85 0.051000000000000004 0.035\n",
      "0.03571428571428571 0.85 0.051000000000000004 0.060000000000000005\n",
      "0.039285714285714285 0.85 0.051000000000000004 0.085\n",
      "0.04285714285714286 0.85 0.051000000000000004 0.11\n",
      "0.04642857142857143 0.85 0.051000000000000004 0.135\n",
      "0.05 0.85 0.051000000000000004 0.16000000000000003\n",
      "0.05357142857142857 0.85 0.051000000000000004 0.18500000000000003\n",
      "0.05714285714285714 0.85 0.101 0.01\n",
      "0.060714285714285714 0.85 0.101 0.035\n",
      "0.06428571428571428 0.85 0.101 0.060000000000000005\n",
      "0.06785714285714285 0.85 0.101 0.085\n",
      "0.07142857142857142 0.85 0.101 0.11\n",
      "0.075 0.85 0.101 0.135\n",
      "0.07857142857142857 0.85 0.101 0.16000000000000003\n",
      "0.08214285714285714 0.85 0.101 0.18500000000000003\n",
      "0.08571428571428572 0.85 0.15100000000000002 0.01\n",
      "0.08928571428571429 0.85 0.15100000000000002 0.035\n",
      "0.09285714285714286 0.85 0.15100000000000002 0.060000000000000005\n",
      "0.09642857142857143 0.85 0.15100000000000002 0.085\n",
      "0.1 0.85 0.15100000000000002 0.11\n",
      "0.10357142857142858 0.85 0.15100000000000002 0.135\n",
      "0.10714285714285714 0.85 0.15100000000000002 0.16000000000000003\n",
      "0.11071428571428571 0.85 0.15100000000000002 0.18500000000000003\n",
      "0.11428571428571428 0.85 0.201 0.01\n",
      "0.11785714285714285 0.85 0.201 0.035\n",
      "0.12142857142857143 0.85 0.201 0.060000000000000005\n",
      "0.125 0.85 0.201 0.085\n",
      "0.12857142857142856 0.85 0.201 0.11\n",
      "0.13214285714285715 0.85 0.201 0.135\n",
      "0.1357142857142857 0.85 0.201 0.16000000000000003\n",
      "0.1392857142857143 0.85 0.201 0.18500000000000003\n",
      "0.14285714285714285 0.9 0.001 0.01\n",
      "0.14642857142857144 0.9 0.001 0.035\n",
      "0.15 0.9 0.001 0.060000000000000005\n",
      "0.15357142857142858 0.9 0.001 0.085\n",
      "0.15714285714285714 0.9 0.001 0.11\n",
      "0.16071428571428573 0.9 0.001 0.135\n",
      "0.16428571428571428 0.9 0.001 0.16000000000000003\n",
      "0.16785714285714284 0.9 0.001 0.18500000000000003\n",
      "0.17142857142857143 0.9 0.051000000000000004 0.01\n",
      "0.175 0.9 0.051000000000000004 0.035\n",
      "0.17857142857142858 0.9 0.051000000000000004 0.060000000000000005\n",
      "0.18214285714285713 0.9 0.051000000000000004 0.085\n",
      "0.18571428571428572 0.9 0.051000000000000004 0.11\n",
      "0.18928571428571428 0.9 0.051000000000000004 0.135\n",
      "0.19285714285714287 0.9 0.051000000000000004 0.16000000000000003\n",
      "0.19642857142857142 0.9 0.051000000000000004 0.18500000000000003\n",
      "0.2 0.9 0.101 0.01\n",
      "0.20357142857142857 0.9 0.101 0.035\n",
      "0.20714285714285716 0.9 0.101 0.060000000000000005\n",
      "0.21071428571428572 0.9 0.101 0.085\n",
      "0.21428571428571427 0.9 0.101 0.11\n",
      "0.21785714285714286 0.9 0.101 0.135\n",
      "0.22142857142857142 0.9 0.101 0.16000000000000003\n",
      "0.225 0.9 0.101 0.18500000000000003\n",
      "0.22857142857142856 0.9 0.15100000000000002 0.01\n",
      "0.23214285714285715 0.9 0.15100000000000002 0.035\n"
     ]
    }
   ],
   "source": [
    "L = []\n",
    "for idx,(alfa,beta,lmda) in enumerate(product(alfaL,betaL,lmdaL)):\n",
    "  params = alfa,beta,lmda\n",
    "  print(idx/param_setsize,alfa,beta,lmda)\n",
    "  schargs = {\n",
    "    'concentration':alfa,\n",
    "    'stickiness_wi':beta,\n",
    "    'stickiness_bt':beta,\n",
    "    'sparsity':lmda\n",
    "  }\n",
    "  args = {\n",
    "    'sch':schargs,\n",
    "    'exp':expargs\n",
    "  }\n",
    "  dataL = run_batch_exp(ns,args)\n",
    "  acc = np.array([get_acc(data) for data in dataL]) # sub,layer,trial\n",
    "  acc = acc.mean(1) # mean over layers\n",
    "  test_acc = acc[(2,3),-40:].mean()\n",
    "  mB = acc.mean(0)\n",
    "  mse = np.mean((mB - hB)**2)\n",
    "  ## record\n",
    "  D = {**schargs,'mse':mse,'testacc':test_acc}\n",
    "  L.append(D)\n"
   ]
  },
  {
   "cell_type": "code",
   "execution_count": null,
   "metadata": {},
   "outputs": [],
   "source": [
    "gsdf = pd.DataFrame(L)\n",
    "gsdf = gsdf.sort_values('testacc',ascending=False)\n",
    "gsdf = gsdf.sort_values('mse',ascending=True)\n",
    "best_param = gsdf.iloc[0]"
   ]
  },
  {
   "cell_type": "markdown",
   "metadata": {},
   "source": [
    "# best fit"
   ]
  },
  {
   "cell_type": "code",
   "execution_count": null,
   "metadata": {},
   "outputs": [],
   "source": [
    "a,bw,bb,l = best_param[:4]\n",
    "\n",
    "print(best_param)\n",
    "schargs_prime = {\n",
    "  'concentration':a,\n",
    "  'stickiness_wi':bw,\n",
    "  'stickiness_bt':bb,\n",
    "  'sparsity':l\n",
    "}\n",
    "args = {\n",
    "  'sch':schargs_prime,\n",
    "  'exp':expargs\n",
    "  }\n",
    "dataL = run_batch_exp(ns,args)\n",
    "acc = np.array([get_acc(data) for data in dataL]) # sub,layer,trial\n",
    "acc = acc.mean(1) # mean over layers\n",
    "mB = acc.mean(0)\n",
    "## plot\n",
    "plt.plot(mB,c='b',lw=3)\n",
    "plt.scatter(range(len(hB)),hB,c='k',s=10,zorder=99)\n",
    "plt.axhline(0.5,c='k',lw=0.5)\n",
    "for v in [40,80,160]:\n",
    "  plt.axvline(v,c='k',lw=0.5)\n",
    "  \n",
    "# plt.savefig('figures/scratch/bestfitGS-%i'%tstampbestfitGS-7562171286.png)"
   ]
  },
  {
   "cell_type": "markdown",
   "metadata": {},
   "source": [
    "# analysis"
   ]
  },
  {
   "cell_type": "code",
   "execution_count": null,
   "metadata": {},
   "outputs": [],
   "source": [
    "pL = ['concentration','stickiness_bt','sparsity']\n",
    "f,axa = plt.subplots(1,3,figsize=(20,4),sharey=True)\n",
    "for i in range(3):\n",
    "  ax = axa[i]\n",
    "  msegroup = gsdf.groupby(pL[i]).mse\n",
    "  M = msegroup.mean()\n",
    "  S = msegroup.std()/np.sqrt(msegroup.count())\n",
    "  ax.plot(M)\n",
    "#   ax.bar(M,yerr=S)\n",
    "  ax.fill_between(M.index,M+S,M-S,alpha=0.5)\n",
    "  ax.set_xlabel(pL[i])\n",
    "  ax.set_ylabel('mse')\n",
    "  \n",
    "\n",
    "# plt.savefig('figures/scratch/mse-by-param-%i'%tstamp)"
   ]
  },
  {
   "cell_type": "code",
   "execution_count": null,
   "metadata": {},
   "outputs": [],
   "source": [
    "f,axa = plt.subplots(3,2,figsize=(30,24),sharey=True)\n",
    "for oi,outvar in enumerate(pL):\n",
    "  ii=-1\n",
    "  for invar in pL:\n",
    "    if outvar==invar: continue\n",
    "    ii+=1\n",
    "    ax = axa[oi,ii]\n",
    "    for oval,d in gsdf.groupby([outvar,invar]).mean().groupby(outvar):\n",
    "      xplt = d.reset_index().loc[:,invar]\n",
    "      yplt = d.mse.values\n",
    "      ax.set_title('%s for different %s'%(invar,outvar))\n",
    "      ax.plot(xplt,yplt)\n",
    "      ax.set_ylabel('mse')\n",
    "      \n",
    "# plt.savefig('figures/scratch/mse-by-paramXparam-%i'%tstamp)"
   ]
  },
  {
   "cell_type": "code",
   "execution_count": null,
   "metadata": {},
   "outputs": [],
   "source": []
  }
 ],
 "metadata": {
  "kernelspec": {
   "display_name": "Python 3",
   "language": "python",
   "name": "python3"
  },
  "language_info": {
   "codemirror_mode": {
    "name": "ipython",
    "version": 3
   },
   "file_extension": ".py",
   "mimetype": "text/x-python",
   "name": "python",
   "nbconvert_exporter": "python",
   "pygments_lexer": "ipython3",
   "version": "3.7.3"
  }
 },
 "nbformat": 4,
 "nbformat_minor": 4
}
