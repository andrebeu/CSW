{
 "cells": [
  {
   "cell_type": "markdown",
   "metadata": {},
   "source": [
    "# implement line sweeps of params\n",
    "- all params fixed expcet one, which is swept over range\n",
    "- specifically looking at test accuracy as a function of one param\n"
   ]
  },
  {
   "cell_type": "code",
   "execution_count": 23,
   "metadata": {},
   "outputs": [
    {
     "name": "stdout",
     "output_type": "stream",
     "text": [
      "The autoreload extension is already loaded. To reload it, use:\n",
      "  %reload_ext autoreload\n"
     ]
    }
   ],
   "source": [
    "from matplotlib import pyplot as plt\n",
    "from scipy.special import softmax\n",
    "from itertools import product\n",
    "import numpy as np\n",
    "from utils import *\n",
    "from model import *\n",
    "import time\n",
    "import seaborn as sns\n",
    "sns.set_context('talk')\n",
    "\n",
    "%load_ext autoreload\n",
    "%reload_ext autoreload\n",
    "%autoreload 2\n",
    "%matplotlib inline"
   ]
  },
  {
   "cell_type": "code",
   "execution_count": 2,
   "metadata": {},
   "outputs": [],
   "source": [
    "## timestamp and dir for saving\n",
    "tstamp = time.perf_counter_ns()\n",
    "import os\n",
    "os.mkdir('figures/scratch_folders/%i'%tstamp)"
   ]
  },
  {
   "cell_type": "code",
   "execution_count": 3,
   "metadata": {},
   "outputs": [],
   "source": [
    "## import human data for fitting\n",
    "import pandas as pd\n",
    "hdf = pd.read_csv('../human_data.csv')\n",
    "humanB_acc,humanI_acc = hdf.loc[:,('blocked mean','interleaved mean')].values.T"
   ]
  },
  {
   "cell_type": "code",
   "execution_count": 4,
   "metadata": {},
   "outputs": [
    {
     "data": {
      "text/plain": [
       "'concentration_1.400-stickiness_wi_5000.000-stickiness_bt_5.000-sparsity_0.080-pvar_2.000-lrate_0.800-lratep_1.000'"
      ]
     },
     "execution_count": 4,
     "metadata": {},
     "output_type": "execute_result"
    }
   ],
   "source": [
    "## default params\n",
    "taskargs = {\n",
    "  'condition':'blocked',\n",
    "  'n_train':160,\n",
    "  'n_test':40\n",
    "}\n",
    "schargs = {\n",
    "    'concentration':1.4,\n",
    "    'stickiness_wi':5000,\n",
    "    'stickiness_bt':5, # 100\n",
    "    'sparsity':0.08,\n",
    "    'pvar': 2,\n",
    "    'lrate':0.8,\n",
    "    'lratep':1,\n",
    "} \n",
    "args = {\n",
    "    'sch':schargs,\n",
    "    'exp':taskargs\n",
    "}\n",
    "param_str = \"-\".join([\"%s_%.3f\"%(i,j) for i,j in schargs.items()])\n",
    "param_str"
   ]
  },
  {
   "cell_type": "markdown",
   "metadata": {},
   "source": [
    "### main"
   ]
  },
  {
   "cell_type": "code",
   "execution_count": null,
   "metadata": {},
   "outputs": [],
   "source": [
    "ns = 3\n",
    "L = []\n",
    "condL = ['blocked','interleaved',\n",
    "         'early','middle','late'\n",
    "        ]\n",
    "exp_batch_data = run_batch_exp_curr2(ns,args,condL) # [curr,seeds,{data}]\n"
   ]
  },
  {
   "cell_type": "code",
   "execution_count": 47,
   "metadata": {},
   "outputs": [
    {
     "data": {
      "text/plain": [
       "array([1.        , 0.66041667, 1.        , 0.82291667, 0.66875   ])"
      ]
     },
     "execution_count": 47,
     "metadata": {},
     "output_type": "execute_result"
    }
   ],
   "source": [
    "## accuracy\n",
    "batch_acc = unpack_acc(exp_batch_data) # curr,seeds,trials\n",
    "test_acc = batch_acc[:,:,-40:].mean((1,2)) # curr\n",
    "test_acc"
   ]
  },
  {
   "cell_type": "markdown",
   "metadata": {},
   "source": [
    "# model state"
   ]
  },
  {
   "cell_type": "code",
   "execution_count": 6,
   "metadata": {},
   "outputs": [
    {
     "data": {
      "text/plain": [
       "dict_keys(['zt', 'xth', 'priors', 'likes', 'post', 'exp'])"
      ]
     },
     "execution_count": 6,
     "metadata": {},
     "output_type": "execute_result"
    }
   ],
   "source": [
    "curr='blocked'\n",
    "dataD[curr][0].keys()"
   ]
  },
  {
   "cell_type": "markdown",
   "metadata": {},
   "source": [
    "## difficulty visualizing priors/likelihoods of a given model:\n",
    "- how to collapse between schemas?\n",
    "- each model instance might have different number of schemas\n",
    "\n",
    "## issue for concatenating between trials:\n",
    "- when new schema is forked on trial t, list of schemas for that trial is longer. "
   ]
  },
  {
   "cell_type": "code",
   "execution_count": 7,
   "metadata": {},
   "outputs": [
    {
     "name": "stdout",
     "output_type": "stream",
     "text": [
      "(200, 5, 21)\n"
     ]
    }
   ],
   "source": [
    "dataL = dataD['blocked']\n",
    "k = 'post' # priors, likesL2, postL2\n",
    "for seed in range(ns):\n",
    "  print(np.array(dataL[seed][k]).shape) # [ntrials,nschemas]"
   ]
  },
  {
   "cell_type": "code",
   "execution_count": 8,
   "metadata": {
    "scrolled": true
   },
   "outputs": [
    {
     "data": {
      "text/plain": [
       "array([[[ 2.91319822e+00,  7.00000000e-01, -1.00000000e+00, ...,\n",
       "         -1.00000000e+00, -1.00000000e+00, -1.00000000e+00],\n",
       "        [ 2.50100000e+03,  7.00000000e-01, -1.00000000e+00, ...,\n",
       "         -1.00000000e+00, -1.00000000e+00, -1.00000000e+00],\n",
       "        [ 2.50150000e+03,  7.00000000e-01, -1.00000000e+00, ...,\n",
       "         -1.00000000e+00, -1.00000000e+00, -1.00000000e+00],\n",
       "        [ 2.50200000e+03,  7.00000000e-01, -1.00000000e+00, ...,\n",
       "         -1.00000000e+00, -1.00000000e+00, -1.00000000e+00],\n",
       "        [-1.00000000e+00, -1.00000000e+00, -1.00000000e+00, ...,\n",
       "         -1.00000000e+00, -1.00000000e+00, -1.00000000e+00]],\n",
       "\n",
       "       [[ 9.00753006e+00,  7.00000000e-01, -1.00000000e+00, ...,\n",
       "         -1.00000000e+00, -1.00000000e+00, -1.00000000e+00],\n",
       "        [ 4.58883333e+03,  7.00000000e-01, -1.00000000e+00, ...,\n",
       "         -1.00000000e+00, -1.00000000e+00, -1.00000000e+00],\n",
       "        [ 4.58975000e+03,  7.00000000e-01, -1.00000000e+00, ...,\n",
       "         -1.00000000e+00, -1.00000000e+00, -1.00000000e+00],\n",
       "        [ 4.59066667e+03,  7.00000000e-01, -1.00000000e+00, ...,\n",
       "         -1.00000000e+00, -1.00000000e+00, -1.00000000e+00],\n",
       "        [-1.00000000e+00, -1.00000000e+00, -1.00000000e+00, ...,\n",
       "         -1.00000000e+00, -1.00000000e+00, -1.00000000e+00]],\n",
       "\n",
       "       [[ 1.31979239e+01,  7.00000000e-01, -1.00000000e+00, ...,\n",
       "         -1.00000000e+00, -1.00000000e+00, -1.00000000e+00],\n",
       "        [ 2.27727273e+02,  7.00000000e-01, -1.00000000e+00, ...,\n",
       "         -1.00000000e+00, -1.00000000e+00, -1.00000000e+00],\n",
       "        [ 2.50550000e+03,  7.00000000e-01, -1.00000000e+00, ...,\n",
       "         -1.00000000e+00, -1.00000000e+00, -1.00000000e+00],\n",
       "        [ 2.50600000e+03,  7.00000000e-01, -1.00000000e+00, ...,\n",
       "         -1.00000000e+00, -1.00000000e+00, -1.00000000e+00],\n",
       "        [-1.00000000e+00, -1.00000000e+00, -1.00000000e+00, ...,\n",
       "         -1.00000000e+00, -1.00000000e+00, -1.00000000e+00]],\n",
       "\n",
       "       ...,\n",
       "\n",
       "       [[ 4.00193798e-01,  3.80033096e+02,  7.00000000e-01, ...,\n",
       "         -1.00000000e+00, -1.00000000e+00, -1.00000000e+00],\n",
       "        [ 2.06500000e+02,  2.57433864e+03,  7.00000000e-01, ...,\n",
       "         -1.00000000e+00, -1.00000000e+00, -1.00000000e+00],\n",
       "        [ 8.06640625e-01,  5.36610177e+03,  7.00000000e-01, ...,\n",
       "         -1.00000000e+00, -1.00000000e+00, -1.00000000e+00],\n",
       "        [ 7.91187739e-01,  5.36709956e+03,  7.00000000e-01, ...,\n",
       "         -1.00000000e+00, -1.00000000e+00, -1.00000000e+00],\n",
       "        [-1.00000000e+00, -1.00000000e+00, -1.00000000e+00, ...,\n",
       "         -1.00000000e+00, -1.00000000e+00, -1.00000000e+00]],\n",
       "\n",
       "       [[ 4.00193798e-01,  3.84033137e+02,  7.00000000e-01, ...,\n",
       "         -1.00000000e+00, -1.00000000e+00, -1.00000000e+00],\n",
       "        [ 2.06500000e+02,  2.77528466e+03,  7.00000000e-01, ...,\n",
       "         -1.00000000e+00, -1.00000000e+00, -1.00000000e+00],\n",
       "        [ 7.91187739e-01,  5.37106098e+03,  7.00000000e-01, ...,\n",
       "         -1.00000000e+00, -1.00000000e+00, -1.00000000e+00],\n",
       "        [ 8.06640625e-01,  5.37205894e+03,  7.00000000e-01, ...,\n",
       "         -1.00000000e+00, -1.00000000e+00, -1.00000000e+00],\n",
       "        [-1.00000000e+00, -1.00000000e+00, -1.00000000e+00, ...,\n",
       "         -1.00000000e+00, -1.00000000e+00, -1.00000000e+00]],\n",
       "\n",
       "       [[ 4.12599806e+02,  4.03780621e-01,  7.00000000e-01, ...,\n",
       "         -1.00000000e+00, -1.00000000e+00, -1.00000000e+00],\n",
       "        [ 2.68076938e+03,  1.92000000e+02,  7.00000000e-01, ...,\n",
       "         -1.00000000e+00, -1.00000000e+00, -1.00000000e+00],\n",
       "        [ 5.40442383e+03,  8.31168831e-01,  7.00000000e-01, ...,\n",
       "         -1.00000000e+00, -1.00000000e+00, -1.00000000e+00],\n",
       "        [ 5.40542188e+03,  7.64940239e-01,  7.00000000e-01, ...,\n",
       "         -1.00000000e+00, -1.00000000e+00, -1.00000000e+00],\n",
       "        [-1.00000000e+00, -1.00000000e+00, -1.00000000e+00, ...,\n",
       "         -1.00000000e+00, -1.00000000e+00, -1.00000000e+00]]])"
      ]
     },
     "execution_count": 8,
     "metadata": {},
     "output_type": "execute_result"
    }
   ],
   "source": [
    "k = 'post' # priors, likesL2, postL2\n",
    "seed = -1\n",
    "dataL[seed][k]"
   ]
  },
  {
   "cell_type": "markdown",
   "metadata": {},
   "source": [
    "### plt "
   ]
  },
  {
   "cell_type": "code",
   "execution_count": 9,
   "metadata": {},
   "outputs": [
    {
     "data": {
      "text/plain": [
       "(1, 200)"
      ]
     },
     "execution_count": 9,
     "metadata": {},
     "output_type": "execute_result"
    }
   ],
   "source": [
    "model_acc.shape"
   ]
  }
 ],
 "metadata": {
  "kernelspec": {
   "display_name": "Python 3",
   "language": "python",
   "name": "python3"
  },
  "language_info": {
   "codemirror_mode": {
    "name": "ipython",
    "version": 3
   },
   "file_extension": ".py",
   "mimetype": "text/x-python",
   "name": "python",
   "nbconvert_exporter": "python",
   "pygments_lexer": "ipython3",
   "version": "3.7.3"
  }
 },
 "nbformat": 4,
 "nbformat_minor": 4
}
