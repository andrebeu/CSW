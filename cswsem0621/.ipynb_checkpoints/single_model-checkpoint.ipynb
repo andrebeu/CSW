{
 "cells": [
  {
   "cell_type": "markdown",
   "metadata": {},
   "source": [
    "# implement line sweeps of params\n",
    "- all params fixed expcet one, which is swept over range\n",
    "- specifically looking at test accuracy as a function of one param\n"
   ]
  },
  {
   "cell_type": "code",
   "execution_count": 1,
   "metadata": {},
   "outputs": [],
   "source": [
    "from matplotlib import pyplot as plt\n",
    "from scipy.special import softmax\n",
    "from itertools import product\n",
    "import numpy as np\n",
    "from utils import *\n",
    "import time\n",
    "import seaborn as sns\n",
    "sns.set_context('talk')\n",
    "\n",
    "%load_ext autoreload\n",
    "%reload_ext autoreload\n",
    "%autoreload 2\n",
    "%matplotlib inline"
   ]
  },
  {
   "cell_type": "code",
   "execution_count": 2,
   "metadata": {},
   "outputs": [],
   "source": [
    "## timestamp and dir for saving\n",
    "tstamp = time.perf_counter_ns()\n",
    "import os\n",
    "os.mkdir('figures/scratch_folders/%i'%tstamp)"
   ]
  },
  {
   "cell_type": "code",
   "execution_count": 3,
   "metadata": {},
   "outputs": [],
   "source": [
    "## import human data for fitting\n",
    "import pandas as pd\n",
    "hdf = pd.read_csv('../human_data.csv')\n",
    "humanB_acc,humanI_acc = hdf.loc[:,('blocked mean','interleaved mean')].values.T"
   ]
  },
  {
   "cell_type": "code",
   "execution_count": 4,
   "metadata": {},
   "outputs": [],
   "source": [
    "def get_sm(xth,norm=True):\n",
    "  \"\"\" \n",
    "  given x_t_hat from subject\n",
    "  [trial,layer,node]\n",
    "  get 2afc normalized softmax for layer 2/3\n",
    "  return: [layer2/3,trial,node56/78]\n",
    "  norm=true \n",
    "   apply softmax to xth\n",
    "   when prediction done with multiple schemas\n",
    "  \"\"\"\n",
    "  nodes = {2:(5,6),3:(7,8)} \n",
    "  L = [] # layer 2 and 3\n",
    "  for l,ns in nodes.items():\n",
    "    y = xth[:,l,ns]\n",
    "    if norm:\n",
    "      y=softmax(y,1)\n",
    "    L.append(y)\n",
    "  return np.array(L)\n",
    "\n",
    "def get_acc(data):\n",
    "  \"\"\" \n",
    "  returns 2afc softmax of \n",
    "  layer 2/3 transitions\n",
    "  \"\"\"\n",
    "  ysm = get_sm(data['xth'])\n",
    "  L = []\n",
    "  for i in range(2):\n",
    "    ysml = ysm[i,:,:]\n",
    "    yt = data['exp'][:,i+3] \n",
    "    pr_yt = ysml[range(len(ysml)),yt - (5+2*i)] # \n",
    "    L.append(pr_yt)\n",
    "  return np.array(L)\n"
   ]
  },
  {
   "cell_type": "code",
   "execution_count": 5,
   "metadata": {
    "scrolled": true
   },
   "outputs": [],
   "source": [
    "### RUN EXP\n",
    "def run_batch_exp(ns,args):\n",
    "  \"\"\" exp over seeds, \n",
    "  single task_condition / param config\n",
    "  return full data\n",
    "  \"\"\"\n",
    "  dataL = []\n",
    "  for i in range(ns):\n",
    "    task = Task()\n",
    "    sem = SEM(args['sch'])\n",
    "    exp,curr  = task.generate_experiment(**args['exp'])\n",
    "    data = sem.run_exp(exp)\n",
    "    data['exp']=exp\n",
    "    dataL.append(data)\n",
    "  return dataL\n",
    "\n",
    "def run_batch_exp_curr2(ns,args,currL=['blocked','interleaved']):\n",
    "  \"\"\" loop over task conditions, \n",
    "  return acc [task_condition,seed,trial]\n",
    "  \"\"\"\n",
    "  accL = []\n",
    "  dataD = {}\n",
    "  for curr in currL:\n",
    "    args['exp']['condition'] = curr\n",
    "    ## extract other data here\n",
    "    dataL = run_batch_exp(ns,args)\n",
    "    dataD[curr] = dataL\n",
    "    ##\n",
    "    acc = np.array([get_acc(data) for data in dataL]).mean(1) # mean over layer\n",
    "    accL.append(acc)\n",
    "  return np.array(accL),dataD"
   ]
  },
  {
   "cell_type": "code",
   "execution_count": 6,
   "metadata": {},
   "outputs": [
    {
     "data": {
      "text/plain": [
       "'concentration_1.400-stickiness_wi_5000.000-stickiness_bt_5.000-sparsity_0.080-pvar_2.000-lrate_0.800-lratep_1.000'"
      ]
     },
     "execution_count": 6,
     "metadata": {},
     "output_type": "execute_result"
    }
   ],
   "source": [
    "## default params\n",
    "expargs = {\n",
    "  'condition':'blocked',\n",
    "  'n_train':160,\n",
    "  'n_test':40\n",
    "}\n",
    "schargs = {\n",
    "    'concentration':1.4,\n",
    "    'stickiness_wi':5000,\n",
    "    'stickiness_bt':5, # 100\n",
    "    'sparsity':0.08,\n",
    "    'pvar': 2,\n",
    "    'lrate':0.8,\n",
    "    'lratep':1,\n",
    "} \n",
    "args = {\n",
    "    'sch':schargs,\n",
    "    'exp':expargs\n",
    "}\n",
    "param_str = \"-\".join([\"%s_%.3f\"%(i,j) for i,j in schargs.items()])\n",
    "param_str"
   ]
  },
  {
   "cell_type": "markdown",
   "metadata": {},
   "source": [
    "### main"
   ]
  },
  {
   "cell_type": "code",
   "execution_count": 7,
   "metadata": {},
   "outputs": [],
   "source": [
    "ns = 7\n",
    "L = []\n",
    "condL = ['blocked','interleaved','early','middle','late']\n",
    "\n",
    "model_seed_acc,dataD = run_batch_exp_curr2(ns,args,condL) # [curr,seeds,trials]\n",
    "\n",
    "model_acc = model_seed_acc.mean(1) # [curr,trials]\n",
    "model_testacc = model_acc[:,-40:].mean(1)\n",
    "  \n"
   ]
  },
  {
   "cell_type": "markdown",
   "metadata": {},
   "source": [
    "# model state"
   ]
  },
  {
   "cell_type": "code",
   "execution_count": 8,
   "metadata": {},
   "outputs": [
    {
     "data": {
      "text/plain": [
       "dict_keys(['zt', 'xth', 'priors', 'likesL2', 'postL2', 'exp'])"
      ]
     },
     "execution_count": 8,
     "metadata": {},
     "output_type": "execute_result"
    }
   ],
   "source": [
    "curr='blocked'\n",
    "dataD[curr][0].keys()"
   ]
  },
  {
   "cell_type": "markdown",
   "metadata": {},
   "source": [
    "## difficulty visualizing priors/likelihoods of a given model:\n",
    "- how to collapse between schemas?\n",
    "- each model instance might have different number of schemas\n",
    "\n",
    "## issue for concatenating between trials:\n",
    "- when new schema is forked on trial t, list of schemas for that trial is longer. "
   ]
  },
  {
   "cell_type": "code",
   "execution_count": 9,
   "metadata": {},
   "outputs": [
    {
     "name": "stdout",
     "output_type": "stream",
     "text": [
      "(200, 1, 2)\n",
      "(200, 1, 2)\n",
      "(200, 1, 2)\n",
      "(200, 1, 2)\n",
      "(200, 1)\n",
      "(200, 1)\n",
      "(200, 1)\n"
     ]
    },
    {
     "name": "stderr",
     "output_type": "stream",
     "text": [
      "//anaconda3/lib/python3.7/site-packages/ipykernel_launcher.py:4: VisibleDeprecationWarning: Creating an ndarray from ragged nested sequences (which is a list-or-tuple of lists-or-tuples-or ndarrays with different lengths or shapes) is deprecated. If you meant to do this, you must specify 'dtype=object' when creating the ndarray\n",
      "  after removing the cwd from sys.path.\n"
     ]
    }
   ],
   "source": [
    "dataL = dataD['interleaved']\n",
    "k = 'postL2' # priors, likesL2, postL2\n",
    "for seed in range(ns):\n",
    "  print(np.array(dataL[seed][k]).shape) # [ntrials,nschemas]"
   ]
  },
  {
   "cell_type": "code",
   "execution_count": 10,
   "metadata": {
    "scrolled": true
   },
   "outputs": [
    {
     "data": {
      "text/plain": [
       "[[5001, 1.4],\n",
       " [5005, 1.4],\n",
       " [5, 5004, 1.4],\n",
       " [5009, 4, 1.4],\n",
       " [9, 5008, 1.4],\n",
       " [5013, 8, 1.4],\n",
       " [13, 5012, 1.4],\n",
       " [5017, 12, 1.4],\n",
       " [17, 5016, 1.4],\n",
       " [5021, 16, 1.4],\n",
       " [21, 5020, 1.4],\n",
       " [5025, 20, 1.4],\n",
       " [25, 5024, 1.4],\n",
       " [5029, 24, 1.4],\n",
       " [29, 5028, 1.4],\n",
       " [5033, 28, 1.4],\n",
       " [33, 5032, 1.4],\n",
       " [5037, 32, 1.4],\n",
       " [37, 5036, 1.4],\n",
       " [5041, 36, 1.4],\n",
       " [41, 5040, 1.4],\n",
       " [5045, 40, 1.4],\n",
       " [45, 5044, 1.4],\n",
       " [5049, 44, 1.4],\n",
       " [49, 5048, 1.4],\n",
       " [5053, 48, 1.4],\n",
       " [53, 5052, 1.4],\n",
       " [5057, 52, 1.4],\n",
       " [57, 5056, 1.4],\n",
       " [5061, 56, 1.4],\n",
       " [61, 5060, 1.4],\n",
       " [5065, 60, 1.4],\n",
       " [65, 5064, 1.4],\n",
       " [5069, 64, 1.4],\n",
       " [69, 5068, 1.4],\n",
       " [5073, 68, 1.4],\n",
       " [73, 5072, 1.4],\n",
       " [5077, 72, 1.4],\n",
       " [77, 5076, 1.4],\n",
       " [5081, 76, 1.4],\n",
       " [81, 5080, 1.4],\n",
       " [5085, 80, 1.4],\n",
       " [85, 5084, 1.4],\n",
       " [5089, 84, 1.4],\n",
       " [89, 5088, 1.4],\n",
       " [5093, 88, 1.4],\n",
       " [93, 5092, 1.4],\n",
       " [5097, 92, 1.4],\n",
       " [97, 5096, 1.4],\n",
       " [5101, 96, 1.4],\n",
       " [101, 5100, 1.4],\n",
       " [5105, 100, 1.4],\n",
       " [105, 5104, 1.4],\n",
       " [5109, 104, 1.4],\n",
       " [109, 5108, 1.4],\n",
       " [5113, 108, 1.4],\n",
       " [113, 5112, 1.4],\n",
       " [5117, 112, 1.4],\n",
       " [117, 5116, 1.4],\n",
       " [5121, 116, 1.4],\n",
       " [121, 5120, 1.4],\n",
       " [5125, 120, 1.4],\n",
       " [125, 5124, 1.4],\n",
       " [5129, 124, 1.4],\n",
       " [129, 5128, 1.4],\n",
       " [5133, 128, 1.4],\n",
       " [133, 5132, 1.4],\n",
       " [5137, 132, 1.4],\n",
       " [137, 5136, 1.4],\n",
       " [5141, 136, 1.4],\n",
       " [141, 5140, 1.4],\n",
       " [5145, 140, 1.4],\n",
       " [145, 5144, 1.4],\n",
       " [5149, 144, 1.4],\n",
       " [149, 5148, 1.4],\n",
       " [5153, 148, 1.4],\n",
       " [153, 5152, 1.4],\n",
       " [5157, 152, 1.4],\n",
       " [157, 5156, 1.4],\n",
       " [5161, 156, 1.4],\n",
       " [161, 5160, 1.4],\n",
       " [5165, 160, 1.4],\n",
       " [165, 5164, 1.4],\n",
       " [5169, 164, 1.4],\n",
       " [169, 5168, 1.4],\n",
       " [5173, 168, 1.4],\n",
       " [173, 5172, 1.4],\n",
       " [5177, 172, 1.4],\n",
       " [177, 5176, 1.4],\n",
       " [5181, 176, 1.4],\n",
       " [181, 5180, 1.4],\n",
       " [5185, 180, 1.4],\n",
       " [185, 5184, 1.4],\n",
       " [5189, 184, 1.4],\n",
       " [189, 5188, 1.4],\n",
       " [5193, 188, 1.4],\n",
       " [193, 5192, 1.4],\n",
       " [5197, 192, 1.4],\n",
       " [197, 5196, 1.4],\n",
       " [5201, 196, 1.4],\n",
       " [201, 5200, 1.4],\n",
       " [5205, 200, 1.4],\n",
       " [205, 5204, 1.4],\n",
       " [5209, 204, 1.4],\n",
       " [209, 5208, 1.4],\n",
       " [5213, 208, 1.4],\n",
       " [213, 5212, 1.4],\n",
       " [5217, 212, 1.4],\n",
       " [217, 5216, 1.4],\n",
       " [5221, 216, 1.4],\n",
       " [221, 5220, 1.4],\n",
       " [5225, 220, 1.4],\n",
       " [225, 5224, 1.4],\n",
       " [5229, 224, 1.4],\n",
       " [229, 5228, 1.4],\n",
       " [5233, 228, 1.4],\n",
       " [233, 5232, 1.4],\n",
       " [5237, 232, 1.4],\n",
       " [237, 5236, 1.4],\n",
       " [5241, 236, 1.4],\n",
       " [241, 5240, 1.4],\n",
       " [5245, 240, 1.4],\n",
       " [245, 5244, 1.4],\n",
       " [5249, 244, 1.4],\n",
       " [249, 5248, 1.4],\n",
       " [5253, 248, 1.4],\n",
       " [253, 5252, 1.4],\n",
       " [5257, 252, 1.4],\n",
       " [257, 5256, 1.4],\n",
       " [5261, 256, 1.4],\n",
       " [261, 5260, 1.4],\n",
       " [5265, 260, 1.4],\n",
       " [265, 5264, 1.4],\n",
       " [5269, 264, 1.4],\n",
       " [269, 5268, 1.4],\n",
       " [5273, 268, 1.4],\n",
       " [273, 5272, 1.4],\n",
       " [5277, 272, 1.4],\n",
       " [277, 5276, 1.4],\n",
       " [5281, 276, 1.4],\n",
       " [281, 5280, 1.4],\n",
       " [5285, 280, 1.4],\n",
       " [285, 5284, 1.4],\n",
       " [5289, 284, 1.4],\n",
       " [289, 5288, 1.4],\n",
       " [5293, 288, 1.4],\n",
       " [293, 5292, 1.4],\n",
       " [5297, 292, 1.4],\n",
       " [297, 5296, 1.4],\n",
       " [5301, 296, 1.4],\n",
       " [301, 5300, 1.4],\n",
       " [5305, 300, 1.4],\n",
       " [305, 5304, 1.4],\n",
       " [5309, 304, 1.4],\n",
       " [309, 5308, 1.4],\n",
       " [5313, 308, 1.4],\n",
       " [313, 5312, 1.4],\n",
       " [5317, 312, 1.4],\n",
       " [317, 5316, 1.4],\n",
       " [5321, 316, 1.4],\n",
       " [321, 5320, 1.4],\n",
       " [5325, 320, 1.4],\n",
       " [325, 5324, 1.4],\n",
       " [5329, 324, 1.4],\n",
       " [5333, 324, 1.4],\n",
       " [333, 5328, 1.4],\n",
       " [333, 5332, 1.4],\n",
       " [5337, 332, 1.4],\n",
       " [5341, 332, 1.4],\n",
       " [341, 5336, 1.4],\n",
       " [5345, 336, 1.4],\n",
       " [345, 5340, 1.4],\n",
       " [5349, 340, 1.4],\n",
       " [5353, 340, 1.4],\n",
       " [353, 5344, 1.4],\n",
       " [353, 5348, 1.4],\n",
       " [5357, 348, 1.4],\n",
       " [357, 5352, 1.4],\n",
       " [357, 5356, 1.4],\n",
       " [357, 5360, 1.4],\n",
       " [357, 5364, 1.4],\n",
       " [5361, 364, 1.4],\n",
       " [361, 5368, 1.4],\n",
       " [361, 5372, 1.4],\n",
       " [5365, 372, 1.4],\n",
       " [5369, 372, 1.4],\n",
       " [5373, 372, 1.4],\n",
       " [5377, 372, 1.4],\n",
       " [5381, 372, 1.4],\n",
       " [5385, 372, 1.4],\n",
       " [5389, 372, 1.4],\n",
       " [389, 5376, 1.4],\n",
       " [5393, 376, 1.4],\n",
       " [393, 5380, 1.4],\n",
       " [5397, 380, 1.4],\n",
       " [5401, 380, 1.4],\n",
       " [5405, 380, 1.4],\n",
       " [5409, 380, 1.4],\n",
       " [5413, 380, 1.4],\n",
       " [413, 5384, 1.4]]"
      ]
     },
     "execution_count": 10,
     "metadata": {},
     "output_type": "execute_result"
    }
   ],
   "source": [
    "k = 'priors' # priors, likesL2, postL2\n",
    "seed = -1\n",
    "dataL[seed][k]"
   ]
  },
  {
   "cell_type": "markdown",
   "metadata": {},
   "source": [
    "### plt "
   ]
  },
  {
   "cell_type": "code",
   "execution_count": 11,
   "metadata": {},
   "outputs": [
    {
     "data": {
      "text/plain": [
       "(5, 200)"
      ]
     },
     "execution_count": 11,
     "metadata": {},
     "output_type": "execute_result"
    }
   ],
   "source": [
    "model_acc.shape"
   ]
  }
 ],
 "metadata": {
  "kernelspec": {
   "display_name": "Python 3",
   "language": "python",
   "name": "python3"
  },
  "language_info": {
   "codemirror_mode": {
    "name": "ipython",
    "version": 3
   },
   "file_extension": ".py",
   "mimetype": "text/x-python",
   "name": "python",
   "nbconvert_exporter": "python",
   "pygments_lexer": "ipython3",
   "version": "3.7.3"
  }
 },
 "nbformat": 4,
 "nbformat_minor": 4
}
