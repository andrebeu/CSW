{
 "cells": [
  {
   "cell_type": "markdown",
   "metadata": {},
   "source": [
    "# implement line sweeps of params\n",
    "- all params fixed expcet one, which is swept over range\n",
    "- specifically looking at test accuracy as a function of one param\n"
   ]
  },
  {
   "cell_type": "code",
   "execution_count": 1,
   "metadata": {},
   "outputs": [],
   "source": [
    "from matplotlib import pyplot as plt\n",
    "from scipy.special import softmax\n",
    "from itertools import product\n",
    "import numpy as np\n",
    "from utils import *\n",
    "from model import *\n",
    "import time\n",
    "import seaborn as sns\n",
    "sns.set_context('talk')\n",
    "\n",
    "%load_ext autoreload\n",
    "%reload_ext autoreload\n",
    "%autoreload 2\n",
    "%matplotlib inline"
   ]
  },
  {
   "cell_type": "code",
   "execution_count": 2,
   "metadata": {},
   "outputs": [],
   "source": [
    "## timestamp and dir for saving\n",
    "tstamp = time.perf_counter_ns()\n",
    "import os\n",
    "os.mkdir('figures/scratch_folders/%i'%tstamp)"
   ]
  },
  {
   "cell_type": "code",
   "execution_count": 3,
   "metadata": {},
   "outputs": [
    {
     "data": {
      "text/plain": [
       "'concentration_210.000-stickiness_wi_300.000-stickiness_bt_400.000-sparsity_1.500-pvar_0.000-lrate_1.000-lratep_1.000-decay_rate_1.000-beta2_0.000'"
      ]
     },
     "execution_count": 3,
     "metadata": {},
     "output_type": "execute_result"
    }
   ],
   "source": [
    "## default params\n",
    "expargs = {\n",
    "  'condition':'blocked',\n",
    "  'n_train':160,\n",
    "  'n_test':40\n",
    "}\n",
    "schargs = {\n",
    "    'concentration':210,\n",
    "    'stickiness_wi':300,\n",
    "    'stickiness_bt':400, # 100\n",
    "    'sparsity':1.5,\n",
    "    'pvar': 0,\n",
    "    'lrate':1,\n",
    "    'lratep':1,\n",
    "    'decay_rate':1,\n",
    "} \n",
    "semargs = {\n",
    "  'beta2':False\n",
    "}\n",
    "args = {\n",
    "    'sem':semargs,\n",
    "    'sch':schargs,\n",
    "    'exp':expargs\n",
    "}\n",
    "param_str = \"-\".join([\"%s_%.3f\"%(i,j) for i,j in schargs.items()])\n",
    "param_str += \"-\"+\"-\".join([\"%s_%.3f\"%(i,j) for i,j in semargs.items()])\n",
    "param_str"
   ]
  },
  {
   "cell_type": "code",
   "execution_count": 4,
   "metadata": {},
   "outputs": [
    {
     "data": {
      "text/plain": [
       "('stickiness_wi',\n",
       " array([250, 260, 270, 280, 290, 300, 310, 320, 330, 340, 350]))"
      ]
     },
     "execution_count": 4,
     "metadata": {},
     "output_type": "execute_result"
    }
   ],
   "source": [
    "# p_name = 'concentration' # \n",
    "# p_vals = np.arange(300,320,2.5)\n",
    "\n",
    "p_name = 'stickiness_wi' # 5000\n",
    "p_vals = np.arange(250,360,10)\n",
    "\n",
    "# p_name = 'stickiness_bt' # 100\n",
    "# p_vals = np.arange(350,460,5)\n",
    "\n",
    "# p_name = 'sparsity' # 0.08\n",
    "# p_vals = np.arange(0.5,1.5,0.05)\n",
    "\n",
    "# p_name = 'pvar' # 0\n",
    "# p_vals = np.arange(0,2,0.2)\n",
    "\n",
    "# p_name = 'lrate' # 1\n",
    "# p_vals = np.arange(0.8,1.01,0.02)\n",
    "\n",
    "# p_name = 'lratep' # 1\n",
    "# p_vals = np.arange(0.8,1.01,0.02)\n",
    "\n",
    "# p_name = 'decay_rate' # 1\n",
    "# p_vals = np.arange(0.95,1.000001,0.005)\n",
    "\n",
    "p_name,p_vals"
   ]
  },
  {
   "cell_type": "markdown",
   "metadata": {},
   "source": [
    "### main"
   ]
  },
  {
   "cell_type": "code",
   "execution_count": 5,
   "metadata": {},
   "outputs": [],
   "source": [
    "def pltsave_macc(macc,schargs=None,labL=['B','I','E','M','L'],close=True):\n",
    "  \"\"\" \n",
    "  save accuracy of individual parameter setting \n",
    "  used in paramsearch loops\n",
    "  \"\"\"\n",
    "  plt.figure(figsize=(10,4))\n",
    "  ax=plt.gca()\n",
    "  for idx in range(len(macc)):\n",
    "    ax.plot(macc[idx],label=labL[idx])\n",
    "  ax.axhline(0.5,c='k')\n",
    "  plt.legend()\n",
    "  param_str = \"-\".join([\"%s_%.3f\"%(i,j) for i,j in schargs.items()])\n",
    "  plt.savefig('figures/scratch_folders/%i/acc-%s.jpg'%(tstamp,param_str))\n",
    "  if close:\n",
    "    plt.close('all')\n",
    "  return None\n"
   ]
  },
  {
   "cell_type": "code",
   "execution_count": null,
   "metadata": {
    "scrolled": true
   },
   "outputs": [
    {
     "name": "stdout",
     "output_type": "stream",
     "text": [
      "0.0\n",
      "0.09090909090909091\n",
      "0.18181818181818182\n",
      "0.2727272727272727\n",
      "0.36363636363636365\n"
     ]
    }
   ],
   "source": [
    "ns = 25\n",
    "dfL = []\n",
    "condL = ['blocked','interleaved','early','middle','late']\n",
    "for idx,p_val in enumerate(p_vals):\n",
    "  print(idx/len(p_vals))\n",
    "  \n",
    "  args['sch'][p_name] = p_val  \n",
    "  exp_batch_data = run_batch_exp_curr(ns,args,condL)\n",
    "  ## acc\n",
    "  batch_acc = unpack_acc(exp_batch_data) # curr,seeds,trials\n",
    "  mean_acc = batch_acc.mean(1)\n",
    "  test_acc = mean_acc[:,-40:].mean(1) # curr  \n",
    "  \n",
    "  ## save traces of EML for each param setting\n",
    "  pltsave_macc(mean_acc[2:],args['sch'],labL=['E','M','L'])\n",
    "  \n",
    "  ## record\n",
    "  gsD = {\n",
    "    **schargs,\n",
    "    **dict(zip(condL,test_acc))\n",
    "  }\n",
    "  dfL.append(gsD)\n",
    "  \n",
    "gsdf = pd.DataFrame(dfL)"
   ]
  },
  {
   "cell_type": "code",
   "execution_count": null,
   "metadata": {
    "scrolled": true
   },
   "outputs": [],
   "source": [
    "gsdf ## test acc dataframe"
   ]
  },
  {
   "cell_type": "markdown",
   "metadata": {},
   "source": [
    "### plt "
   ]
  },
  {
   "cell_type": "code",
   "execution_count": null,
   "metadata": {},
   "outputs": [],
   "source": [
    "plt.figure(figsize=(20,10))\n",
    "ax = plt.gca()\n",
    "gsdf.plot(p_name,condL,ax=ax)\n",
    "ax.set_ylim(0.4,1.05)\n",
    "ax.set_ylabel('test acc')\n",
    "for i in np.arange(0.5,1.01,0.1):\n",
    "  ax.axhline(i,c='k',lw=0.5)\n",
    "plt.title(param_str)\n",
    "plt.savefig('figures/scratch/testacc-sweep_%s-default_%s-t%s.png'%(\n",
    "  p_name,param_str,tstamp))"
   ]
  }
 ],
 "metadata": {
  "kernelspec": {
   "display_name": "Python 3",
   "language": "python",
   "name": "python3"
  },
  "language_info": {
   "codemirror_mode": {
    "name": "ipython",
    "version": 3
   },
   "file_extension": ".py",
   "mimetype": "text/x-python",
   "name": "python",
   "nbconvert_exporter": "python",
   "pygments_lexer": "ipython3",
   "version": "3.8.8"
  }
 },
 "nbformat": 4,
 "nbformat_minor": 4
}
