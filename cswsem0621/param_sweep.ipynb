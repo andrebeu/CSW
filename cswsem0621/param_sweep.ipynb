{
 "cells": [
  {
   "cell_type": "markdown",
   "metadata": {},
   "source": [
    "# implement line sweeps of params\n",
    "- all params fixed expcet one, which is swept over range\n",
    "- specifically looking at test accuracy as a function of one param\n"
   ]
  },
  {
   "cell_type": "code",
   "execution_count": 1,
   "metadata": {},
   "outputs": [],
   "source": [
    "from matplotlib import pyplot as plt\n",
    "from scipy.special import softmax\n",
    "from itertools import product\n",
    "import numpy as np\n",
    "from utils import *\n",
    "from model import *\n",
    "import time\n",
    "import seaborn as sns\n",
    "sns.set_context('talk')\n",
    "\n",
    "%load_ext autoreload\n",
    "%reload_ext autoreload\n",
    "%autoreload 2\n",
    "%matplotlib inline"
   ]
  },
  {
   "cell_type": "code",
   "execution_count": 2,
   "metadata": {},
   "outputs": [],
   "source": [
    "## timestamp and dir for saving\n",
    "tstamp = time.perf_counter_ns()\n",
    "import os\n",
    "os.mkdir('figures/scratch_folders/%i'%tstamp)"
   ]
  },
  {
   "cell_type": "code",
   "execution_count": 3,
   "metadata": {},
   "outputs": [
    {
     "data": {
      "text/plain": [
       "'concentration_3.410-stickiness_wi_5000.000-stickiness_bt_5.000-sparsity_2.000-pvar_2.000-lrate_1.000-lratep_1.000-decay_rate_1.000-beta2_0.000'"
      ]
     },
     "execution_count": 3,
     "metadata": {},
     "output_type": "execute_result"
    }
   ],
   "source": [
    "## default params\n",
    "expargs = {\n",
    "  'condition':'blocked',\n",
    "  'n_train':160,\n",
    "  'n_test':40\n",
    "}\n",
    "schargs = {\n",
    "    'concentration':3.41,\n",
    "    'stickiness_wi':5000,\n",
    "    'stickiness_bt':5, # 100\n",
    "    'sparsity':2,\n",
    "    'pvar': 2,\n",
    "    'lrate':1,\n",
    "    'lratep':1,\n",
    "    'decay_rate':1,\n",
    "} \n",
    "semargs = {\n",
    "  'beta2':False\n",
    "}\n",
    "args = {\n",
    "    'sem':semargs,\n",
    "    'sch':schargs,\n",
    "    'exp':expargs\n",
    "}\n",
    "param_str = \"-\".join([\"%s_%.3f\"%(i,j) for i,j in schargs.items()])\n",
    "param_str += \"-\"+\"-\".join([\"%s_%.3f\"%(i,j) for i,j in semargs.items()])\n",
    "param_str"
   ]
  },
  {
   "cell_type": "code",
   "execution_count": 4,
   "metadata": {},
   "outputs": [
    {
     "data": {
      "text/plain": [
       "('concentration',\n",
       " array([ 0.1,  0.6,  1.1,  1.6,  2.1,  2.6,  3.1,  3.6,  4.1,  4.6,  5.1,\n",
       "         5.6,  6.1,  6.6,  7.1,  7.6,  8.1,  8.6,  9.1,  9.6, 10.1, 10.6,\n",
       "        11.1, 11.6, 12.1, 12.6, 13.1, 13.6, 14.1, 14.6, 15.1, 15.6, 16.1,\n",
       "        16.6, 17.1, 17.6, 18.1, 18.6, 19.1, 19.6]))"
      ]
     },
     "execution_count": 4,
     "metadata": {},
     "output_type": "execute_result"
    }
   ],
   "source": [
    "p_name = 'concentration' # \n",
    "p_vals = np.arange(0.1,20,0.5)\n",
    "\n",
    "# p_name = 'stickiness_wi' # 5000\n",
    "# p_vals = np.arange(0,6000,1000)\n",
    "\n",
    "# p_name = 'stickiness_bt' # 100\n",
    "# p_vals = np.arange(1,15,1)\n",
    "\n",
    "# p_name = 'sparsity' # 0.08\n",
    "# p_vals = np.arange(0.01,0.5,0.05)\n",
    "\n",
    "# p_name = 'pvar' # 0\n",
    "# p_vals = np.arange(1,2,0.1)\n",
    "\n",
    "# p_name = 'lrate' # 1\n",
    "# p_vals = np.arange(0.5,1,0.05)\n",
    "\n",
    "# p_name = 'lratep' # 1\n",
    "# p_vals = np.arange(0.8,1.05,0.01)\n",
    "\n",
    "# p_name = 'decay_rate' # 1\n",
    "# p_vals = np.arange(0.95,1.000001,0.005)\n",
    "\n",
    "p_name,p_vals"
   ]
  },
  {
   "cell_type": "markdown",
   "metadata": {},
   "source": [
    "### main"
   ]
  },
  {
   "cell_type": "code",
   "execution_count": 5,
   "metadata": {},
   "outputs": [],
   "source": [
    "def pltsave_macc(macc,schargs=None,labL=['B','I','E','M','L'],close=True):\n",
    "  \"\"\" \n",
    "  save accuracy of individual parameter setting \n",
    "  used in paramsearch loops\n",
    "  \"\"\"\n",
    "  plt.figure(figsize=(10,4))\n",
    "  ax=plt.gca()\n",
    "  for idx in range(len(macc)):\n",
    "    ax.plot(macc[idx],label=labL[idx])\n",
    "  ax.axhline(0.5,c='k')\n",
    "  plt.legend()\n",
    "  param_str = \"-\".join([\"%s_%.3f\"%(i,j) for i,j in schargs.items()])\n",
    "  plt.savefig('figures/scratch_folders/%i/acc-%s.jpg'%(tstamp,param_str))\n",
    "  if close:\n",
    "    plt.close('all')\n",
    "  return None\n"
   ]
  },
  {
   "cell_type": "code",
   "execution_count": null,
   "metadata": {
    "scrolled": true
   },
   "outputs": [
    {
     "name": "stdout",
     "output_type": "stream",
     "text": [
      "0.0\n",
      "0.025\n",
      "0.05\n",
      "0.075\n",
      "0.1\n",
      "0.125\n",
      "0.15\n",
      "0.175\n",
      "0.2\n",
      "0.225\n",
      "0.25\n",
      "0.275\n",
      "0.3\n",
      "0.325\n",
      "0.35\n",
      "0.375\n",
      "0.4\n",
      "0.425\n",
      "0.45\n"
     ]
    }
   ],
   "source": [
    "ns = 25\n",
    "dfL = []\n",
    "condL = ['blocked','interleaved','early','middle','late']\n",
    "for idx,p_val in enumerate(p_vals):\n",
    "  print(idx/len(p_vals))\n",
    "  \n",
    "  args['sch'][p_name] = p_val  \n",
    "  exp_batch_data = run_batch_exp_curr(ns,args,condL)\n",
    "  ## acc\n",
    "  batch_acc = unpack_acc(exp_batch_data) # curr,seeds,trials\n",
    "  mean_acc = batch_acc.mean(1)\n",
    "  test_acc = mean_acc[:,-40:].mean(1) # curr  \n",
    "  \n",
    "  ## save traces of EML for each param setting\n",
    "  pltsave_macc(mean_acc[2:],args['sch'],labL=['E','M','L'])\n",
    "  \n",
    "  ## record\n",
    "  gsD = {\n",
    "    **schargs,\n",
    "    **dict(zip(condL,test_acc))\n",
    "  }\n",
    "  dfL.append(gsD)\n",
    "  \n",
    "gsdf = pd.DataFrame(dfL)"
   ]
  },
  {
   "cell_type": "code",
   "execution_count": null,
   "metadata": {
    "scrolled": true
   },
   "outputs": [],
   "source": [
    "gsdf ## test acc dataframe"
   ]
  },
  {
   "cell_type": "markdown",
   "metadata": {},
   "source": [
    "### plt "
   ]
  },
  {
   "cell_type": "code",
   "execution_count": null,
   "metadata": {},
   "outputs": [],
   "source": [
    "plt.figure(figsize=(20,10))\n",
    "ax = plt.gca()\n",
    "gsdf.plot(p_name,condL,ax=ax)\n",
    "ax.set_ylim(0.4,1.05)\n",
    "ax.set_ylabel('test acc')\n",
    "plt.title(param_str)\n",
    "plt.savefig('figures/scratch/testacc-sweep_%s-default_%s-t%s.png'%(\n",
    "  p_name,param_str,tstamp))"
   ]
  }
 ],
 "metadata": {
  "kernelspec": {
   "display_name": "Python 3",
   "language": "python",
   "name": "python3"
  },
  "language_info": {
   "codemirror_mode": {
    "name": "ipython",
    "version": 3
   },
   "file_extension": ".py",
   "mimetype": "text/x-python",
   "name": "python",
   "nbconvert_exporter": "python",
   "pygments_lexer": "ipython3",
   "version": "3.7.3"
  }
 },
 "nbformat": 4,
 "nbformat_minor": 4
}
