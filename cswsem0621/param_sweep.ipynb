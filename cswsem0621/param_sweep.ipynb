{
 "cells": [
  {
   "cell_type": "markdown",
   "metadata": {},
   "source": [
    "# implement line sweeps of params\n",
    "- all params fixed expcet one, which is swept over range\n",
    "- specifically looking at test accuracy as a function of one param\n"
   ]
  },
  {
   "cell_type": "code",
   "execution_count": 1,
   "metadata": {},
   "outputs": [],
   "source": [
    "from matplotlib import pyplot as plt\n",
    "from scipy.special import softmax\n",
    "from itertools import product\n",
    "import numpy as np\n",
    "from utils import *\n",
    "from model import *\n",
    "import time\n",
    "import seaborn as sns\n",
    "sns.set_context('talk')\n",
    "\n",
    "%load_ext autoreload\n",
    "%reload_ext autoreload\n",
    "%autoreload 2\n",
    "%matplotlib inline"
   ]
  },
  {
   "cell_type": "code",
   "execution_count": 2,
   "metadata": {},
   "outputs": [],
   "source": [
    "## timestamp and dir for saving\n",
    "tstamp = time.perf_counter_ns()\n",
    "import os\n",
    "os.mkdir('figures/scratch_folders/%i'%tstamp)"
   ]
  },
  {
   "cell_type": "markdown",
   "metadata": {},
   "source": [
    "testacc-param_sweep-lrate-default_concentration_1.400-stickiness_wi_5000.000-stickiness_bt_4.000-sparsity_0.080-pvar_0.000-lrate_1.000-t1556963830.png"
   ]
  },
  {
   "cell_type": "code",
   "execution_count": 3,
   "metadata": {},
   "outputs": [
    {
     "data": {
      "text/plain": [
       "'concentration_3.000-stickiness_wi_10.000-stickiness_bt_10.000-sparsity_1.000-pvar_0.000-lrate_1.000-lratep_0.300-decay_rate_1.000-beta2_0.000-skipt1_1.000-ppd_allsch_0.000'"
      ]
     },
     "execution_count": 3,
     "metadata": {},
     "output_type": "execute_result"
    }
   ],
   "source": [
    "## default params\n",
    "expargs = {\n",
    "  'condition':'blocked',\n",
    "  'n_train':160,\n",
    "  'n_test':40\n",
    "}\n",
    "schargs = {\n",
    "   'concentration':3,\n",
    "   'stickiness_wi':10,\n",
    "   'stickiness_bt':10,\n",
    "   'sparsity':1,\n",
    "   'pvar': 0,\n",
    "   'lrate':1,\n",
    "   'lratep':.3,\n",
    "   'decay_rate':1,\n",
    "}\n",
    "semargs = {\n",
    "  'beta2':False,\n",
    "  'skipt1':True,\n",
    "  'ppd_allsch':False\n",
    "}\n",
    "args = {\n",
    "    'sem':semargs,\n",
    "    'sch':schargs,\n",
    "    'exp':expargs\n",
    "}\n",
    "param_str = \"-\".join([\"%s_%.3f\"%(i,j) for i,j in schargs.items()])\n",
    "param_str += \"-\"+\"-\".join([\"%s_%.3f\"%(i,j) for i,j in semargs.items()])\n",
    "param_str"
   ]
  },
  {
   "cell_type": "code",
   "execution_count": 4,
   "metadata": {},
   "outputs": [
    {
     "data": {
      "text/plain": [
       "('stickiness_wi', array([ 5,  6,  7,  8,  9, 10, 11, 12, 13, 14]))"
      ]
     },
     "execution_count": 4,
     "metadata": {},
     "output_type": "execute_result"
    }
   ],
   "source": [
    "p_name = 'concentration' # \n",
    "p_vals = np.arange(1,5,.25)\n",
    "\n",
    "p_name = 'stickiness_wi' # 5000\n",
    "p_vals = np.arange(5,15,1)\n",
    "\n",
    "# p_name = 'stickiness_bt' # 100\n",
    "# p_vals = np.arange(0.01,5,.5)\n",
    "\n",
    "# p_name = 'sparsity' # 0.08\n",
    "# p_vals = np.arange(0.01,1,0.1)\n",
    "\n",
    "# p_name = 'pvar' # 0\n",
    "# p_vals = np.arange(0,2,0.2)\n",
    "\n",
    "# p_name = 'lrate' # 1\n",
    "# p_vals = np.arange(0.8,1.01,0.05)\n",
    "\n",
    "# p_name = 'lratep' # 1\n",
    "# p_vals = np.arange(.01,.5,.05)\n",
    "\n",
    "# p_name = 'decay_rate' # 1\n",
    "# p_vals = np.arange(0.98,1.000001,0.001)\n",
    "\n",
    "p_name,p_vals"
   ]
  },
  {
   "cell_type": "markdown",
   "metadata": {},
   "source": [
    "### main"
   ]
  },
  {
   "cell_type": "code",
   "execution_count": 5,
   "metadata": {},
   "outputs": [],
   "source": [
    "def pltsave_macc(macc,schargs=None,labL=['B','I','E','M','L'],close=True):\n",
    "  \"\"\" \n",
    "  save accuracy of individual parameter setting \n",
    "  used in paramsearch loops\n",
    "  \"\"\"\n",
    "  plt.figure(figsize=(10,4))\n",
    "  ax=plt.gca()\n",
    "  for idx in range(len(macc)):\n",
    "    ax.plot(macc[idx],label=labL[idx])\n",
    "  ax.axhline(0.5,c='k')\n",
    "  plt.legend()\n",
    "  param_str = \"-\".join([\"%s_%.3f\"%(i,j) for i,j in schargs.items()])\n",
    "  plt.savefig('figures/scratch_folders/%i/acc-%s.jpg'%(tstamp,param_str))\n",
    "  if close:\n",
    "    plt.close('all')\n",
    "  return None\n"
   ]
  },
  {
   "cell_type": "code",
   "execution_count": 6,
   "metadata": {
    "scrolled": true
   },
   "outputs": [
    {
     "name": "stdout",
     "output_type": "stream",
     "text": [
      "0.0\n",
      "0.1\n",
      "0.2\n",
      "0.3\n",
      "0.4\n",
      "0.5\n",
      "0.6\n",
      "0.7\n",
      "0.8\n",
      "0.9\n"
     ]
    }
   ],
   "source": [
    "ns = 20\n",
    "dfL = []\n",
    "condL = ['blocked','interleaved','early','middle','late']\n",
    "for idx,p_val in enumerate(p_vals):\n",
    "  print(idx/len(p_vals))\n",
    "  \n",
    "  args['sch'][p_name] = p_val  \n",
    "  exp_batch_data = run_batch_exp_curr(ns,args,condL)\n",
    "  ## acc\n",
    "  batch_acc = unpack_acc(exp_batch_data) # curr,seeds,trials\n",
    "  mean_acc = batch_acc.mean(1)\n",
    "  test_acc = mean_acc[:,-40:].mean(1) # curr  \n",
    "  \n",
    "  ## save traces of EML for each param setting\n",
    "  pltsave_macc(mean_acc[2:],args['sch'],labL=['E','M','L'])\n",
    "  \n",
    "  ## record\n",
    "  gsD = {\n",
    "    **schargs,\n",
    "    **dict(zip(condL,test_acc))\n",
    "  }\n",
    "  dfL.append(gsD)\n",
    "  \n",
    "gsdf = pd.DataFrame(dfL)"
   ]
  },
  {
   "cell_type": "code",
   "execution_count": 7,
   "metadata": {
    "scrolled": true
   },
   "outputs": [
    {
     "data": {
      "text/html": [
       "<div>\n",
       "<style scoped>\n",
       "    .dataframe tbody tr th:only-of-type {\n",
       "        vertical-align: middle;\n",
       "    }\n",
       "\n",
       "    .dataframe tbody tr th {\n",
       "        vertical-align: top;\n",
       "    }\n",
       "\n",
       "    .dataframe thead th {\n",
       "        text-align: right;\n",
       "    }\n",
       "</style>\n",
       "<table border=\"1\" class=\"dataframe\">\n",
       "  <thead>\n",
       "    <tr style=\"text-align: right;\">\n",
       "      <th></th>\n",
       "      <th>concentration</th>\n",
       "      <th>stickiness_wi</th>\n",
       "      <th>stickiness_bt</th>\n",
       "      <th>sparsity</th>\n",
       "      <th>pvar</th>\n",
       "      <th>lrate</th>\n",
       "      <th>lratep</th>\n",
       "      <th>decay_rate</th>\n",
       "      <th>blocked</th>\n",
       "      <th>interleaved</th>\n",
       "      <th>early</th>\n",
       "      <th>middle</th>\n",
       "      <th>late</th>\n",
       "    </tr>\n",
       "  </thead>\n",
       "  <tbody>\n",
       "    <tr>\n",
       "      <th>0</th>\n",
       "      <td>3</td>\n",
       "      <td>5</td>\n",
       "      <td>10</td>\n",
       "      <td>1</td>\n",
       "      <td>0</td>\n",
       "      <td>1</td>\n",
       "      <td>0.3</td>\n",
       "      <td>1</td>\n",
       "      <td>0.722437</td>\n",
       "      <td>0.499847</td>\n",
       "      <td>0.722449</td>\n",
       "      <td>0.499198</td>\n",
       "      <td>0.500344</td>\n",
       "    </tr>\n",
       "    <tr>\n",
       "      <th>1</th>\n",
       "      <td>3</td>\n",
       "      <td>6</td>\n",
       "      <td>10</td>\n",
       "      <td>1</td>\n",
       "      <td>0</td>\n",
       "      <td>1</td>\n",
       "      <td>0.3</td>\n",
       "      <td>1</td>\n",
       "      <td>0.722466</td>\n",
       "      <td>0.500529</td>\n",
       "      <td>0.722431</td>\n",
       "      <td>0.499661</td>\n",
       "      <td>0.499992</td>\n",
       "    </tr>\n",
       "    <tr>\n",
       "      <th>2</th>\n",
       "      <td>3</td>\n",
       "      <td>7</td>\n",
       "      <td>10</td>\n",
       "      <td>1</td>\n",
       "      <td>0</td>\n",
       "      <td>1</td>\n",
       "      <td>0.3</td>\n",
       "      <td>1</td>\n",
       "      <td>0.722497</td>\n",
       "      <td>0.499514</td>\n",
       "      <td>0.722427</td>\n",
       "      <td>0.500597</td>\n",
       "      <td>0.499875</td>\n",
       "    </tr>\n",
       "    <tr>\n",
       "      <th>3</th>\n",
       "      <td>3</td>\n",
       "      <td>8</td>\n",
       "      <td>10</td>\n",
       "      <td>1</td>\n",
       "      <td>0</td>\n",
       "      <td>1</td>\n",
       "      <td>0.3</td>\n",
       "      <td>1</td>\n",
       "      <td>0.722445</td>\n",
       "      <td>0.499458</td>\n",
       "      <td>0.722463</td>\n",
       "      <td>0.499603</td>\n",
       "      <td>0.500299</td>\n",
       "    </tr>\n",
       "    <tr>\n",
       "      <th>4</th>\n",
       "      <td>3</td>\n",
       "      <td>9</td>\n",
       "      <td>10</td>\n",
       "      <td>1</td>\n",
       "      <td>0</td>\n",
       "      <td>1</td>\n",
       "      <td>0.3</td>\n",
       "      <td>1</td>\n",
       "      <td>0.722499</td>\n",
       "      <td>0.500019</td>\n",
       "      <td>0.722436</td>\n",
       "      <td>0.500815</td>\n",
       "      <td>0.500594</td>\n",
       "    </tr>\n",
       "    <tr>\n",
       "      <th>5</th>\n",
       "      <td>3</td>\n",
       "      <td>10</td>\n",
       "      <td>10</td>\n",
       "      <td>1</td>\n",
       "      <td>0</td>\n",
       "      <td>1</td>\n",
       "      <td>0.3</td>\n",
       "      <td>1</td>\n",
       "      <td>0.722465</td>\n",
       "      <td>0.499416</td>\n",
       "      <td>0.722488</td>\n",
       "      <td>0.499504</td>\n",
       "      <td>0.500023</td>\n",
       "    </tr>\n",
       "    <tr>\n",
       "      <th>6</th>\n",
       "      <td>3</td>\n",
       "      <td>11</td>\n",
       "      <td>10</td>\n",
       "      <td>1</td>\n",
       "      <td>0</td>\n",
       "      <td>1</td>\n",
       "      <td>0.3</td>\n",
       "      <td>1</td>\n",
       "      <td>0.722478</td>\n",
       "      <td>0.501419</td>\n",
       "      <td>0.722501</td>\n",
       "      <td>0.499779</td>\n",
       "      <td>0.499490</td>\n",
       "    </tr>\n",
       "    <tr>\n",
       "      <th>7</th>\n",
       "      <td>3</td>\n",
       "      <td>12</td>\n",
       "      <td>10</td>\n",
       "      <td>1</td>\n",
       "      <td>0</td>\n",
       "      <td>1</td>\n",
       "      <td>0.3</td>\n",
       "      <td>1</td>\n",
       "      <td>0.722414</td>\n",
       "      <td>0.499387</td>\n",
       "      <td>0.722448</td>\n",
       "      <td>0.500127</td>\n",
       "      <td>0.500145</td>\n",
       "    </tr>\n",
       "    <tr>\n",
       "      <th>8</th>\n",
       "      <td>3</td>\n",
       "      <td>13</td>\n",
       "      <td>10</td>\n",
       "      <td>1</td>\n",
       "      <td>0</td>\n",
       "      <td>1</td>\n",
       "      <td>0.3</td>\n",
       "      <td>1</td>\n",
       "      <td>0.722466</td>\n",
       "      <td>0.499774</td>\n",
       "      <td>0.722514</td>\n",
       "      <td>0.500021</td>\n",
       "      <td>0.499122</td>\n",
       "    </tr>\n",
       "    <tr>\n",
       "      <th>9</th>\n",
       "      <td>3</td>\n",
       "      <td>14</td>\n",
       "      <td>10</td>\n",
       "      <td>1</td>\n",
       "      <td>0</td>\n",
       "      <td>1</td>\n",
       "      <td>0.3</td>\n",
       "      <td>1</td>\n",
       "      <td>0.722426</td>\n",
       "      <td>0.499192</td>\n",
       "      <td>0.722472</td>\n",
       "      <td>0.499485</td>\n",
       "      <td>0.500071</td>\n",
       "    </tr>\n",
       "  </tbody>\n",
       "</table>\n",
       "</div>"
      ],
      "text/plain": [
       "   concentration  stickiness_wi  stickiness_bt  sparsity  pvar  lrate  lratep  \\\n",
       "0              3              5             10         1     0      1     0.3   \n",
       "1              3              6             10         1     0      1     0.3   \n",
       "2              3              7             10         1     0      1     0.3   \n",
       "3              3              8             10         1     0      1     0.3   \n",
       "4              3              9             10         1     0      1     0.3   \n",
       "5              3             10             10         1     0      1     0.3   \n",
       "6              3             11             10         1     0      1     0.3   \n",
       "7              3             12             10         1     0      1     0.3   \n",
       "8              3             13             10         1     0      1     0.3   \n",
       "9              3             14             10         1     0      1     0.3   \n",
       "\n",
       "   decay_rate   blocked  interleaved     early    middle      late  \n",
       "0           1  0.722437     0.499847  0.722449  0.499198  0.500344  \n",
       "1           1  0.722466     0.500529  0.722431  0.499661  0.499992  \n",
       "2           1  0.722497     0.499514  0.722427  0.500597  0.499875  \n",
       "3           1  0.722445     0.499458  0.722463  0.499603  0.500299  \n",
       "4           1  0.722499     0.500019  0.722436  0.500815  0.500594  \n",
       "5           1  0.722465     0.499416  0.722488  0.499504  0.500023  \n",
       "6           1  0.722478     0.501419  0.722501  0.499779  0.499490  \n",
       "7           1  0.722414     0.499387  0.722448  0.500127  0.500145  \n",
       "8           1  0.722466     0.499774  0.722514  0.500021  0.499122  \n",
       "9           1  0.722426     0.499192  0.722472  0.499485  0.500071  "
      ]
     },
     "execution_count": 7,
     "metadata": {},
     "output_type": "execute_result"
    }
   ],
   "source": [
    "gsdf ## test acc dataframe"
   ]
  },
  {
   "cell_type": "markdown",
   "metadata": {},
   "source": [
    "### plt "
   ]
  },
  {
   "cell_type": "code",
   "execution_count": 8,
   "metadata": {},
   "outputs": [
    {
     "data": {
      "image/png": "[encoded data removed]",
      "text/plain": [
       "<Figure size 1440x720 with 1 Axes>"
      ]
     },
     "metadata": {
      "needs_background": "light"
     },
     "output_type": "display_data"
    }
   ],
   "source": [
    "plt.figure(figsize=(20,10))\n",
    "ax = plt.gca()\n",
    "gsdf.plot(p_name,condL,ax=ax)\n",
    "ax.set_ylim(0.4,1.05)\n",
    "ax.set_ylabel('test acc')\n",
    "for i in np.arange(0.5,1.01,0.1):\n",
    "  ax.axhline(i,c='k',lw=0.5)\n",
    "plt.title(param_str)\n",
    "plt.savefig('figures/scratch/testacc-sweep_%s-default_%s-t%s.png'%(\n",
    "  p_name,param_str,tstamp))"
   ]
  }
 ],
 "metadata": {
  "kernelspec": {
   "display_name": "Python 3",
   "language": "python",
   "name": "python3"
  },
  "language_info": {
   "codemirror_mode": {
    "name": "ipython",
    "version": 3
   },
   "file_extension": ".py",
   "mimetype": "text/x-python",
   "name": "python",
   "nbconvert_exporter": "python",
   "pygments_lexer": "ipython3",
   "version": "3.8.8"
  }
 },
 "nbformat": 4,
 "nbformat_minor": 4
}
