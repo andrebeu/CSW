{
 "cells": [
  {
   "cell_type": "code",
   "execution_count": 1,
   "metadata": {},
   "outputs": [],
   "source": [
    "from matplotlib import pyplot as plt\n",
    "from scipy.special import softmax\n",
    "from itertools import product\n",
    "import numpy as np\n",
    "##\n",
    "from utils import *\n",
    "from model import *\n",
    "from analysis import *\n",
    "##\n",
    "import time\n",
    "import seaborn as sns\n",
    "from glob import glob as glob\n",
    "sns.set_context('talk')\n",
    "\n",
    "%load_ext autoreload\n",
    "%reload_ext autoreload\n",
    "%autoreload 2\n",
    "%matplotlib inline"
   ]
  },
  {
   "cell_type": "code",
   "execution_count": 2,
   "metadata": {},
   "outputs": [],
   "source": [
    "gsname = 'gs0209'"
   ]
  },
  {
   "cell_type": "markdown",
   "metadata": {},
   "source": [
    "### load data"
   ]
  },
  {
   "cell_type": "code",
   "execution_count": 3,
   "metadata": {},
   "outputs": [],
   "source": [
    "gsdf = pd.read_csv('data/%s-summdf.csv'%gsname).astype(float)"
   ]
  },
  {
   "cell_type": "code",
   "execution_count": 4,
   "metadata": {},
   "outputs": [],
   "source": [
    "## load human data\n",
    "hdf = pd.read_csv('../human_data.csv')\n",
    "humanD = {}\n",
    "for c in ['blocked','interleaved','early','middle','late']:\n",
    "  humanD[c[0]] = hdf.loc[:,('%s mean')%c].values.T[-40:].mean()\n",
    "## test acc: difference to human\n",
    "for c in ['b','i','e','m','l']:\n",
    "  gsdf['%s-test_diff'%c] = np.abs(gsdf.loc[:,'testacc-%s'%c] - humanD[c])\n",
    "## block+interleaved mse\n",
    "gsdf.loc[:,'mse-bi'] = gsdf.loc[:,'mse-i']+gsdf.loc[:,'mse-b']"
   ]
  },
  {
   "cell_type": "markdown",
   "metadata": {},
   "source": [
    "### plt single condition"
   ]
  },
  {
   "cell_type": "code",
   "execution_count": 5,
   "metadata": {},
   "outputs": [],
   "source": [
    "def save_and_close(param_str,rank,mse):\n",
    "  plt.title(param_str[:120])\n",
    "  plt.savefig(\"figures/top40/%s-%i-mse%.3f-%s.png\"%(gsname,rank,mse,param_str))\n",
    "  plt.close('all')\n",
    "  \n",
    "def pipeline(row,ns=50):\n",
    "  \"\"\" \n",
    "  each step of the pipeline involves \n",
    "    running a csw experiment on a param contained in row\n",
    "    calculating a metric on exp_batch_data\n",
    "    plotting and saving\n",
    "  \"\"\"\n",
    "  mse = dict(row)['mse-bi'].round(3)\n",
    "  ## RUN EXP\n",
    "  args,paramstr = get_argsD(row)\n",
    "  exp_batch_data = run_batch_exp_curr(ns,args,condL) # [curr,seeds,{data}]\n",
    "  ## ACCURACY\n",
    "  plt_acc(exp_batch_data)\n",
    "  save_and_close(\"acc-%s\"%paramstr,rank,mse)\n",
    "  ## LC COUNTS VIOLIN\n",
    "  plt_LC_violins(exp_batch_data)\n",
    "  save_and_close(\"lc-%s\"%paramstr,rank,mse)\n",
    "  ## ajdusted rand\n",
    "  plt_arscores(exp_batch_data)\n",
    "  save_and_close(\"ar-%s\"%paramstr,rank,mse)"
   ]
  },
  {
   "cell_type": "markdown",
   "metadata": {},
   "source": [
    "# top 40 MSE analyses"
   ]
  },
  {
   "cell_type": "code",
   "execution_count": 6,
   "metadata": {
    "scrolled": true
   },
   "outputs": [],
   "source": [
    "## select top40 MSE\n",
    "top40gsdf = gsdf.sort_values('mse-bi').iloc[:40]"
   ]
  },
  {
   "cell_type": "code",
   "execution_count": 7,
   "metadata": {},
   "outputs": [
    {
     "name": "stdout",
     "output_type": "stream",
     "text": [
      "0\n",
      "1\n",
      "2\n",
      "3\n",
      "4\n",
      "5\n",
      "6\n",
      "7\n",
      "8\n",
      "9\n",
      "10\n",
      "11\n",
      "12\n",
      "13\n",
      "14\n",
      "15\n",
      "16\n",
      "17\n",
      "18\n",
      "19\n",
      "20\n",
      "21\n",
      "22\n",
      "23\n",
      "24\n",
      "25\n",
      "26\n",
      "27\n",
      "28\n",
      "29\n",
      "30\n",
      "31\n",
      "32\n",
      "33\n",
      "34\n",
      "35\n",
      "36\n",
      "37\n",
      "38\n",
      "39\n"
     ]
    }
   ],
   "source": [
    "## LOOP\n",
    "for rank,(idx,row) in enumerate(top40gsdf.iterrows()):\n",
    "  print(rank)\n",
    "  pipeline(row)"
   ]
  }
 ],
 "metadata": {
  "kernelspec": {
   "display_name": "Python 3",
   "language": "python",
   "name": "python3"
  },
  "language_info": {
   "codemirror_mode": {
    "name": "ipython",
    "version": 3
   },
   "file_extension": ".py",
   "mimetype": "text/x-python",
   "name": "python",
   "nbconvert_exporter": "python",
   "pygments_lexer": "ipython3",
   "version": "3.8.8"
  }
 },
 "nbformat": 4,
 "nbformat_minor": 4
}
